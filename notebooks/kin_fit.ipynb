{
 "cells": [
  {
   "cell_type": "markdown",
   "metadata": {},
   "source": [
    "# Input data"
   ]
  },
  {
   "cell_type": "code",
   "execution_count": 1,
   "metadata": {},
   "outputs": [],
   "source": [
    "from copy import deepcopy as copy\n",
    "# df = pd.read_hdf('/scratch/snx3000/musella/cms_tth_2.hd5')\n",
    "df = pd.read_hdf('/scratch/snx3000/musella/delphes_tth.hd5')\n",
    "\n",
    "# select di-lepton events\n",
    "df2l = copy(df[df.num_leptons == 2])\n",
    "del df\n",
    "df = df2l"
   ]
  },
  {
   "cell_type": "code",
   "execution_count": 2,
   "metadata": {},
   "outputs": [],
   "source": [
    "# utilities to compute 4-vectors\n",
    "from pyjlr.utils import *"
   ]
  },
  {
   "cell_type": "code",
   "execution_count": 3,
   "metadata": {},
   "outputs": [],
   "source": [
    "# compute leptons and jet 4 vectors\n",
    "for ilep in range(2):\n",
    "    make_p4(df,'leptons',ilep)\n",
    "    \n",
    "for ijet in range(10):\n",
    "    make_p4(df,'jets',ijet)"
   ]
  },
  {
   "cell_type": "code",
   "execution_count": 5,
   "metadata": {},
   "outputs": [],
   "source": [
    "# met_pt = \"met_pt\"\n",
    "met_pt = \"met_sumEt\"\n",
    "\n",
    "df['met_px'] = df[met_pt]*np.cos(df['met_phi'])\n",
    "df['met_py'] = df[met_pt]*np.sin(df['met_phi'])"
   ]
  },
  {
   "cell_type": "code",
   "execution_count": 6,
   "metadata": {},
   "outputs": [],
   "source": [
    "# compute m^2 of each dijet pair\n",
    "for ijet in range(10):\n",
    "    for jjet in range(ijet,10):\n",
    "        make_m2(df,\"jets\",ijet,\"jets\",jjet)"
   ]
  },
  {
   "cell_type": "markdown",
   "metadata": {},
   "source": [
    "# Find best Higgs candidates and assign other jets to top"
   ]
  },
  {
   "cell_type": "code",
   "execution_count": 7,
   "metadata": {},
   "outputs": [],
   "source": [
    "import pyjlr.nuSolutions as nusol"
   ]
  },
  {
   "cell_type": "code",
   "execution_count": 8,
   "metadata": {},
   "outputs": [],
   "source": [
    "from skhep.math.vectors import LorentzVector"
   ]
  },
  {
   "cell_type": "code",
   "execution_count": 21,
   "metadata": {},
   "outputs": [],
   "source": [
    "import itertools\n",
    "\n",
    "# set of 1,2 and 4 jets combinations\n",
    "onejet = list(range(6))\n",
    "twojets = list(itertools.combinations(onejet,2))\n",
    "fourjets = list(itertools.combinations(onejet,4))\n",
    "\n",
    "twojets2ind ={  cmb:icomb for icomb,cmb in enumerate(twojets)  }\n",
    "fourjets2ind ={  cmb:icomb for icomb,cmb in enumerate(fourjets)  }\n",
    "\n",
    "# make all possible (higgs,top) jet combinations \n",
    "# (under the hypothesis that both higgs jets are reconstructed)\n",
    "def make_combinations(df,maxjets=6):\n",
    "    \n",
    "    #make event hypothesis\n",
    "    def mk_hyp(X):\n",
    "        # find dijet pair colses to Higgs mass\n",
    "        deltam = np.abs(np.sqrt(X[1:])-125.)\n",
    "        closest = np.argmin(deltam)\n",
    "        deltam = deltam[closest]\n",
    "        hcand = twojets[closest]\n",
    "#         if deltam < 20.:\n",
    "#             hcand = twojets[closest]\n",
    "#         else:\n",
    "#             hcand = []\n",
    "        # make pairs of all remining jets\n",
    "        njets = int(X[0])\n",
    "        if maxjets is not None: njets = min(njets,maxjets)\n",
    "        alljets = set(range(njets))\n",
    "        others = itertools.combinations( alljets - set(hcand), 2)\n",
    "        # return a list of the form [ (hjet0,hjet1), (topjet0,topjet1) ]\n",
    "        return list(itertools.product([hcand],others))\n",
    "\n",
    "    # select njet and M^2(i,j) columns\n",
    "    cols = [\"num_jets\"]+[\"jets_jets_m2_%d%d\" % x for x in twojets]\n",
    "    dijets = df[cols]\n",
    "    \n",
    "    # compute all events hypotheses\n",
    "    return dijets.apply(mk_hyp,raw=True,axis=1).apply(np.array) #np.abs(np.sqrt(dijets)-125.).apply(mk_hyp,raw=True,axis=1)\n"
   ]
  },
  {
   "cell_type": "code",
   "execution_count": 22,
   "metadata": {},
   "outputs": [
    {
     "name": "stderr",
     "output_type": "stream",
     "text": [
      "/users/musella/my-env3.6/lib/python3.6/site-packages/ipykernel_launcher.py:18: RuntimeWarning: invalid value encountered in sqrt\n"
     ]
    }
   ],
   "source": [
    "df[\"jets_cmb\"] = make_combinations(df)"
   ]
  },
  {
   "cell_type": "code",
   "execution_count": 23,
   "metadata": {},
   "outputs": [
    {
     "data": {
      "text/plain": [
       "array([[[1, 4],\n",
       "        [0, 2]],\n",
       "\n",
       "       [[1, 4],\n",
       "        [0, 3]],\n",
       "\n",
       "       [[1, 4],\n",
       "        [0, 5]],\n",
       "\n",
       "       [[1, 4],\n",
       "        [2, 3]],\n",
       "\n",
       "       [[1, 4],\n",
       "        [2, 5]],\n",
       "\n",
       "       [[1, 4],\n",
       "        [3, 5]]])"
      ]
     },
     "execution_count": 23,
     "metadata": {},
     "output_type": "execute_result"
    }
   ],
   "source": [
    "df[\"jets_cmb\"].iloc[0]"
   ]
  },
  {
   "cell_type": "code",
   "execution_count": 24,
   "metadata": {},
   "outputs": [
    {
     "data": {
      "text/html": [
       "<div>\n",
       "<style scoped>\n",
       "    .dataframe tbody tr th:only-of-type {\n",
       "        vertical-align: middle;\n",
       "    }\n",
       "\n",
       "    .dataframe tbody tr th {\n",
       "        vertical-align: top;\n",
       "    }\n",
       "\n",
       "    .dataframe thead th {\n",
       "        text-align: right;\n",
       "    }\n",
       "</style>\n",
       "<table border=\"1\" class=\"dataframe\">\n",
       "  <thead>\n",
       "    <tr style=\"text-align: right;\">\n",
       "      <th></th>\n",
       "      <th>num_jets</th>\n",
       "      <th>jets_cmb</th>\n",
       "    </tr>\n",
       "  </thead>\n",
       "  <tbody>\n",
       "    <tr>\n",
       "      <th>86</th>\n",
       "      <td>7.0</td>\n",
       "      <td>[[[1, 4], [0, 2]], [[1, 4], [0, 3]], [[1, 4], ...</td>\n",
       "    </tr>\n",
       "    <tr>\n",
       "      <th>188</th>\n",
       "      <td>7.0</td>\n",
       "      <td>[[[2, 5], [0, 1]], [[2, 5], [0, 3]], [[2, 5], ...</td>\n",
       "    </tr>\n",
       "    <tr>\n",
       "      <th>190</th>\n",
       "      <td>5.0</td>\n",
       "      <td>[[[1, 2], [0, 3]], [[1, 2], [0, 4]], [[1, 2], ...</td>\n",
       "    </tr>\n",
       "    <tr>\n",
       "      <th>247</th>\n",
       "      <td>4.0</td>\n",
       "      <td>[[[1, 2], [0, 3]]]</td>\n",
       "    </tr>\n",
       "    <tr>\n",
       "      <th>252</th>\n",
       "      <td>4.0</td>\n",
       "      <td>[[[0, 2], [1, 3]]]</td>\n",
       "    </tr>\n",
       "  </tbody>\n",
       "</table>\n",
       "</div>"
      ],
      "text/plain": [
       "     num_jets                                           jets_cmb\n",
       "86        7.0  [[[1, 4], [0, 2]], [[1, 4], [0, 3]], [[1, 4], ...\n",
       "188       7.0  [[[2, 5], [0, 1]], [[2, 5], [0, 3]], [[2, 5], ...\n",
       "190       5.0  [[[1, 2], [0, 3]], [[1, 2], [0, 4]], [[1, 2], ...\n",
       "247       4.0                                 [[[1, 2], [0, 3]]]\n",
       "252       4.0                                 [[[0, 2], [1, 3]]]"
      ]
     },
     "execution_count": 24,
     "metadata": {},
     "output_type": "execute_result"
    }
   ],
   "source": [
    "df[ [\"num_jets\",\"jets_cmb\"] ].head()"
   ]
  },
  {
   "cell_type": "markdown",
   "metadata": {},
   "source": [
    "# Run kinematic fit on top hypotheses"
   ]
  },
  {
   "cell_type": "code",
   "execution_count": 25,
   "metadata": {},
   "outputs": [],
   "source": [
    "reload(nusol)\n",
    "\n",
    "from numpy.linalg import LinAlgError\n",
    "\n",
    "# find neutrino solutions assuming mtop and mW\n",
    "# given 2 leptons and 2 jets up to 8 solutions per event are possible\n",
    "# 2 parings x 4 solutions of the bi-quadratic system\n",
    "def make_nusol(df):\n",
    "    \n",
    "    maxjets = max(onejet)+1\n",
    "    # find neutrions solutions given top hypothesis\n",
    "    def mk_sol(X):\n",
    "        comb = X[0]\n",
    "        X = X[1:].values # for some reason raw option does not convert row into np array if one of the columns is of objet type\n",
    "        jets = X[:4*maxjets].reshape(-1,4)\n",
    "        leps = X[4*maxjets:4*(maxjets+2)].reshape(-1,4)\n",
    "        met = X[4*(maxjets+2):]\n",
    "        \n",
    "        # loop over all possible combinations\n",
    "        sols = []\n",
    "        for icomb in comb:\n",
    "            isol = []\n",
    "            # print(icomb)\n",
    "            # unpack higgs and top hypotheses\n",
    "            _,(jet0,jet1) = icomb\n",
    "            ijet0 = LorentzVector( *(jets[jet0].tolist()) )\n",
    "            ijet1 = LorentzVector( *(jets[jet1].tolist()) )\n",
    "            # loop over jet-lepton pairings\n",
    "            for lep0,lep1 in (0,1),(1,0):\n",
    "                ilep0 = LorentzVector( *(leps[lep0].tolist()) )\n",
    "                ilep1 = LorentzVector( *(leps[lep1].tolist()) )\n",
    "                \n",
    "                # run kinematic fit\n",
    "                # pad missing solutions with 0's\n",
    "                try:\n",
    "                    nsols = 0\n",
    "                    nusols = nusol.doubleNeutrinoSolutions( (ijet0,ijet1), (ilep0,ilep1), met).nunu_s\n",
    "                    for sol in nusols:\n",
    "                        nu0,nu1 = sol\n",
    "                        nu0 = LorentzVector( *nu0, np.sqrt((nu0**2).sum() ))\n",
    "                        nu1 = LorentzVector( *nu1, np.sqrt((nu1**2).sum() ))\n",
    "                        top0 = ijet0+ilep0+nu0\n",
    "                        top1 = ijet1+ilep1+nu1\n",
    "                        isol.append( np.array( [top0.e,top0.x,top0.y,top0.z, top1.e,top1.x,top1.y,top1.z] ) )\n",
    "                        nsols += 1\n",
    "                    for jsol in range(nsols,4):\n",
    "                        isol.append(np.zeros((1,8)))\n",
    "                except LinAlgError:\n",
    "                    for jsol in range(4):\n",
    "                        isol.append(np.zeros((1,8)))\n",
    "                    pass\n",
    "            sols.append(np.vstack(isol))\n",
    "            \n",
    "        if len(sols) == 0: return np.zeros((1,8,4,2))\n",
    "        # final tensor shape is (ncomb, nsol, 4-vec components, t/tbar)\n",
    "        return np.vstack(sols).reshape(len(comb),8,4,2)\n",
    "        \n",
    "    cols  = [\"jets_cmb\"] \n",
    "    cols += [\"jets_%s_%d\" % (feat,jet) for jet in onejet for feat in [\"px\",\"py\",\"pz\",\"en\"] ]\n",
    "    cols += [\"leptons_%s_%d\" % (feat,lep) for feat in [\"px\",\"py\",\"pz\",\"en\"] for lep in range(2)  ]\n",
    "    cols += [\"met_px\",\"met_py\"]\n",
    "    # print(cols)\n",
    "    return df[cols].apply(mk_sol,raw=True,axis=1)\n",
    "    "
   ]
  },
  {
   "cell_type": "code",
   "execution_count": 26,
   "metadata": {},
   "outputs": [
    {
     "name": "stderr",
     "output_type": "stream",
     "text": [
      "/opt/python/3.6.1.1/lib/python3.6/site-packages/scipy/optimize/minpack.py:427: RuntimeWarning: Number of calls to function has reached maxfev = 600.\n",
      "  warnings.warn(errors[info][0], RuntimeWarning)\n"
     ]
    },
    {
     "name": "stdout",
     "output_type": "stream",
     "text": [
      "CPU times: user 9min 42s, sys: 14min 53s, total: 24min 36s\n",
      "Wall time: 8min 12s\n"
     ]
    }
   ],
   "source": [
    "%time df[\"kin_sols\"] = make_nusol(df)\n"
   ]
  },
  {
   "cell_type": "code",
   "execution_count": null,
   "metadata": {},
   "outputs": [],
   "source": []
  },
  {
   "cell_type": "code",
   "execution_count": null,
   "metadata": {},
   "outputs": [],
   "source": []
  },
  {
   "cell_type": "code",
   "execution_count": 27,
   "metadata": {},
   "outputs": [
    {
     "data": {
      "text/plain": [
       "86     [[[[0. 0.], [0. 0.], [0. 0.], [0. 0.]], [[0. 0...\n",
       "188    [[[[0. 0.], [0. 0.], [0. 0.], [0. 0.]], [[0. 0...\n",
       "190    [[[[284.99999942  71.64190313], [ 172.07316719...\n",
       "247    [[[[273.68343495   6.85688829], [-206.75491186...\n",
       "252    [[[[488.01641885 195.77669942], [377.78383281 ...\n",
       "Name: kin_sols, dtype: object"
      ]
     },
     "execution_count": 27,
     "metadata": {},
     "output_type": "execute_result"
    }
   ],
   "source": [
    "df[\"kin_sols\"].head()"
   ]
  },
  {
   "cell_type": "code",
   "execution_count": 28,
   "metadata": {},
   "outputs": [
    {
     "name": "stderr",
     "output_type": "stream",
     "text": [
      "/users/musella/my-env3.6/lib/python3.6/site-packages/pandas/core/generic.py:1993: PerformanceWarning: \n",
      "your performance may suffer as PyTables will pickle object types that it cannot\n",
      "map directly to c-types [inferred_type->mixed,key->block1_values] [items->['jets_cmb', 'kin_sols']]\n",
      "\n",
      "  return pytables.to_hdf(path_or_buf, key, self, **kwargs)\n"
     ]
    }
   ],
   "source": [
    "df.to_hdf('/scratch/snx3000/musella/delphes_dilep_kinfit.hd5',format=\"f\",key=\"cms\",mode=\"w\")\n",
    "# df.to_hdf('/scratch/snx3000/musella/cms_dilep_kinfit.hd5',format=\"f\",key=\"cms\",mode=\"w\")"
   ]
  },
  {
   "cell_type": "code",
   "execution_count": 29,
   "metadata": {},
   "outputs": [
    {
     "data": {
      "text/plain": [
       "(67902, 214)"
      ]
     },
     "execution_count": 29,
     "metadata": {},
     "output_type": "execute_result"
    }
   ],
   "source": [
    "df.shape"
   ]
  },
  {
   "cell_type": "code",
   "execution_count": null,
   "metadata": {},
   "outputs": [],
   "source": []
  }
 ],
 "metadata": {
  "kernelspec": {
   "display_name": "Python 3",
   "language": "python",
   "name": "python3"
  },
  "language_info": {
   "codemirror_mode": {
    "name": "ipython",
    "version": 3
   },
   "file_extension": ".py",
   "mimetype": "text/x-python",
   "name": "python",
   "nbconvert_exporter": "python",
   "pygments_lexer": "ipython3",
   "version": "3.6.1"
  }
 },
 "nbformat": 4,
 "nbformat_minor": 2
}
