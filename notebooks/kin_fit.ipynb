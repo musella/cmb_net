{
 "cells": [
  {
   "cell_type": "markdown",
   "metadata": {},
   "source": [
    "# Input data"
   ]
  },
  {
   "cell_type": "code",
   "execution_count": 3,
   "metadata": {},
   "outputs": [],
   "source": [
    "from copy import deepcopy as copy\n",
    "df = pd.read_hdf('/scratch/snx3000/musella/cms_tth_2.hd5')\n",
    "\n",
    "# select di-lepton events\n",
    "df2l = copy(df[df.num_leptons == 2])\n",
    "del df\n",
    "df = df2l"
   ]
  },
  {
   "cell_type": "code",
   "execution_count": null,
   "metadata": {},
   "outputs": [],
   "source": [
    "# utilities to compute 4-vectors\n",
    "from pyjlr.utils import *"
   ]
  },
  {
   "cell_type": "code",
   "execution_count": 6,
   "metadata": {},
   "outputs": [],
   "source": [
    "# compute leptons and jet 4 vectors\n",
    "for ilep in range(2):\n",
    "    make_p4(df,'leptons',ilep)\n",
    "    \n",
    "for ijet in range(10):\n",
    "    make_p4(df,'jets',ijet)"
   ]
  },
  {
   "cell_type": "code",
   "execution_count": 7,
   "metadata": {},
   "outputs": [],
   "source": [
    "df['met_px'] = df['met_pt']*np.cos(df['met_phi'])\n",
    "df['met_py'] = df['met_pt']*np.sin(df['met_phi'])"
   ]
  },
  {
   "cell_type": "code",
   "execution_count": 8,
   "metadata": {},
   "outputs": [],
   "source": [
    "# compute m^2 of each dijet pair\n",
    "for ijet in range(10):\n",
    "    for jjet in range(ijet,10):\n",
    "        make_m2(df,\"jets\",ijet,\"jets\",jjet)"
   ]
  },
  {
   "cell_type": "markdown",
   "metadata": {},
   "source": [
    "# Find best Higgs candidates and assign other jets to top"
   ]
  },
  {
   "cell_type": "code",
   "execution_count": 18,
   "metadata": {},
   "outputs": [],
   "source": [
    "import pyjlr.nuSolutions as nusol"
   ]
  },
  {
   "cell_type": "code",
   "execution_count": 19,
   "metadata": {},
   "outputs": [],
   "source": [
    "from skhep.math.vectors import LorentzVector"
   ]
  },
  {
   "cell_type": "code",
   "execution_count": 268,
   "metadata": {},
   "outputs": [],
   "source": [
    "import itertools\n",
    "\n",
    "# set of 1,2 and 4 jets combinations\n",
    "onejet = list(range(6))\n",
    "twojets = list(itertools.combinations(onejet,2))\n",
    "fourjets = list(itertools.combinations(onejet,4))\n",
    "\n",
    "twojets2ind ={  cmb:icomb for icomb,cmb in enumerate(twojets)  }\n",
    "fourjets2ind ={  cmb:icomb for icomb,cmb in enumerate(fourjets)  }\n",
    "\n",
    "# make all possible (higgs,top) jet combinations \n",
    "# (under the hypothesis that both higgs jets are reconstructed)\n",
    "def make_combinations(df,maxjets=6):\n",
    "    \n",
    "    #make event hypothesis\n",
    "    def mk_hyp(X):\n",
    "        # find dijet pair colses to Higgs mass\n",
    "        hcand = twojets[np.argmin(np.abs(np.sqrt(X[1:])-125.))]\n",
    "        # make pairs of all remining jets\n",
    "        njets = int(X[0])\n",
    "        if maxjets is not None: njets = min(njets,maxjets)\n",
    "        alljets = set(range(njets))\n",
    "        others = itertools.combinations( alljets - set(hcand), 2)\n",
    "        # return a list of the form [ (hjet0,hjet1), (topjet0,topjet1) ]\n",
    "        return list(itertools.product([hcand],others))\n",
    "\n",
    "    # select njet and M^2(i,j) columns\n",
    "    cols = [\"num_jets\"]+[\"jets_jets_m2_%d%d\" % x for x in twojets]\n",
    "    dijets = df[cols]\n",
    "    \n",
    "    # compute all events hypotheses\n",
    "    return dijets.apply(mk_hyp,raw=True,axis=1) #np.abs(np.sqrt(dijets)-125.).apply(mk_hyp,raw=True,axis=1)\n"
   ]
  },
  {
   "cell_type": "code",
   "execution_count": 269,
   "metadata": {},
   "outputs": [],
   "source": [
    "df[\"jets_cmb\"] = make_combinations(df)"
   ]
  },
  {
   "cell_type": "code",
   "execution_count": 270,
   "metadata": {},
   "outputs": [
    {
     "data": {
      "text/html": [
       "<div>\n",
       "<style scoped>\n",
       "    .dataframe tbody tr th:only-of-type {\n",
       "        vertical-align: middle;\n",
       "    }\n",
       "\n",
       "    .dataframe tbody tr th {\n",
       "        vertical-align: top;\n",
       "    }\n",
       "\n",
       "    .dataframe thead th {\n",
       "        text-align: right;\n",
       "    }\n",
       "</style>\n",
       "<table border=\"1\" class=\"dataframe\">\n",
       "  <thead>\n",
       "    <tr style=\"text-align: right;\">\n",
       "      <th></th>\n",
       "      <th>num_jets</th>\n",
       "      <th>jets_cmb</th>\n",
       "    </tr>\n",
       "  </thead>\n",
       "  <tbody>\n",
       "    <tr>\n",
       "      <th>17</th>\n",
       "      <td>5.0</td>\n",
       "      <td>[((1, 5), (0, 2)), ((1, 5), (0, 3)), ((1, 5), ...</td>\n",
       "    </tr>\n",
       "    <tr>\n",
       "      <th>54</th>\n",
       "      <td>5.0</td>\n",
       "      <td>[((3, 5), (0, 1)), ((3, 5), (0, 2)), ((3, 5), ...</td>\n",
       "    </tr>\n",
       "    <tr>\n",
       "      <th>72</th>\n",
       "      <td>4.0</td>\n",
       "      <td>[((2, 4), (0, 1)), ((2, 4), (0, 3)), ((2, 4), ...</td>\n",
       "    </tr>\n",
       "    <tr>\n",
       "      <th>81</th>\n",
       "      <td>4.0</td>\n",
       "      <td>[((1, 4), (0, 2)), ((1, 4), (0, 3)), ((1, 4), ...</td>\n",
       "    </tr>\n",
       "    <tr>\n",
       "      <th>96</th>\n",
       "      <td>4.0</td>\n",
       "      <td>[((1, 4), (0, 2)), ((1, 4), (0, 3)), ((1, 4), ...</td>\n",
       "    </tr>\n",
       "  </tbody>\n",
       "</table>\n",
       "</div>"
      ],
      "text/plain": [
       "    num_jets                                           jets_cmb\n",
       "17       5.0  [((1, 5), (0, 2)), ((1, 5), (0, 3)), ((1, 5), ...\n",
       "54       5.0  [((3, 5), (0, 1)), ((3, 5), (0, 2)), ((3, 5), ...\n",
       "72       4.0  [((2, 4), (0, 1)), ((2, 4), (0, 3)), ((2, 4), ...\n",
       "81       4.0  [((1, 4), (0, 2)), ((1, 4), (0, 3)), ((1, 4), ...\n",
       "96       4.0  [((1, 4), (0, 2)), ((1, 4), (0, 3)), ((1, 4), ..."
      ]
     },
     "execution_count": 270,
     "metadata": {},
     "output_type": "execute_result"
    }
   ],
   "source": [
    "df[ [\"num_jets\",\"jets_cmb\"] ].head()"
   ]
  },
  {
   "cell_type": "markdown",
   "metadata": {},
   "source": [
    "# Run kinematic fit on top hypotheses"
   ]
  },
  {
   "cell_type": "code",
   "execution_count": 271,
   "metadata": {},
   "outputs": [],
   "source": [
    "reload(nusol)\n",
    "\n",
    "from numpy.linalg import LinAlgError\n",
    "\n",
    "# find neutrino solutions assuming mtop and mW\n",
    "# given 2 leptons and 2 jets up to 8 solutions per event are possible\n",
    "# 2 parings x 4 solutions of the bi-quadratic system\n",
    "def make_nusol(df):\n",
    "    \n",
    "    maxjets = max(onejet)+1\n",
    "    # find neutrions solutions given top hypothesis\n",
    "    def mk_sol(X):\n",
    "        comb = X[0]\n",
    "        X = X[1:].values # for some reason raw option does not convert row into np array if one of the columns is of objet type\n",
    "        jets = X[:4*maxjets].reshape(-1,4)\n",
    "        leps = X[4*maxjets:4*(maxjets+2)].reshape(-1,4)\n",
    "        met = X[4*(maxjets+2):]\n",
    "        \n",
    "        # loop over all possible combinations\n",
    "        sols = []\n",
    "        for icomb in comb:\n",
    "            isol = []\n",
    "            # unpack higgs and top hypotheses\n",
    "            (hjet0,hjet1),(jet0,jet1) = icomb\n",
    "            ijet0 = LorentzVector( *(jets[jet0].tolist()) )\n",
    "            ijet1 = LorentzVector( *(jets[jet1].tolist()) )\n",
    "            # loop over jet-lepton pairings\n",
    "            for lep0,lep1 in (0,1),(1,0):\n",
    "                ilep0 = LorentzVector( *(leps[lep0].tolist()) )\n",
    "                ilep1 = LorentzVector( *(leps[lep1].tolist()) )\n",
    "                \n",
    "                # run kinematic fit\n",
    "                # pad missing solutions with 0's\n",
    "                try:\n",
    "                    nsols = 0\n",
    "                    for sol in nusol.doubleNeutrinoSolutions( (ijet0,ijet1), (ilep0,ilep1), met).nunu_s:\n",
    "                        nu0,nu1 = sol\n",
    "                        nu0 = LorentzVector( *nu0, np.sqrt((nu0**2).sum() ))\n",
    "                        nu1 = LorentzVector( *nu1, np.sqrt((nu1**2).sum() ))\n",
    "                        top0 = ijet0+ilep0+nu0\n",
    "                        top1 = ijet1+ilep1+nu1\n",
    "                        isol.append( np.array( [top0.e,top0.x,top0.y,top0.z, top1.e,top1.x,top1.y,top1.z] ) )\n",
    "                        nsols += 1\n",
    "                    for jsol in range(nsols,4):\n",
    "                        isol.append(np.zeros((1,8)))\n",
    "                except LinAlgError:\n",
    "                    for jsol in range(4):\n",
    "                        isol.append(np.zeros((1,8)))\n",
    "                    pass\n",
    "            sols.append(np.vstack(isol))\n",
    "            \n",
    "        if len(sols) == 0: return np.zeros((1,8,1))\n",
    "        # final tensor shape is (ncomb, nsol, 4-vec components, t/tbar)\n",
    "        return np.vstack(sols).reshape(len(comb),8,4,2)\n",
    "        \n",
    "    cols  = [\"jets_cmb\"] \n",
    "    cols += [\"jets_%s_%d\" % (feat,jet) for jet in onejet for feat in [\"px\",\"py\",\"pz\",\"en\"] ]\n",
    "    cols += [\"leptons_%s_%d\" % (feat,lep) for feat in [\"px\",\"py\",\"pz\",\"en\"] for lep in range(2)  ]\n",
    "    cols += [\"met_px\",\"met_py\"]\n",
    "    # print(cols)\n",
    "    return df[cols].apply(mk_sol,raw=True,axis=1)\n",
    "    "
   ]
  },
  {
   "cell_type": "code",
   "execution_count": 277,
   "metadata": {},
   "outputs": [
    {
     "name": "stderr",
     "output_type": "stream",
     "text": [
      "/opt/python/3.6.1.1/lib/python3.6/site-packages/scipy/optimize/minpack.py:427: RuntimeWarning: Number of calls to function has reached maxfev = 600.\n",
      "  warnings.warn(errors[info][0], RuntimeWarning)\n"
     ]
    },
    {
     "name": "stdout",
     "output_type": "stream",
     "text": [
      "CPU times: user 2min 20s, sys: 3min 31s, total: 5min 51s\n",
      "Wall time: 1min 57s\n"
     ]
    }
   ],
   "source": [
    "%time dfnusol = make_nusol(df.iloc[:10000])\n"
   ]
  },
  {
   "cell_type": "code",
   "execution_count": 279,
   "metadata": {},
   "outputs": [
    {
     "data": {
      "text/plain": [
       "(156512, 270)"
      ]
     },
     "execution_count": 279,
     "metadata": {},
     "output_type": "execute_result"
    }
   ],
   "source": [
    "df.shape"
   ]
  },
  {
   "cell_type": "code",
   "execution_count": 261,
   "metadata": {},
   "outputs": [
    {
     "data": {
      "text/plain": [
       "(3, (3, 8, 4, 2))"
      ]
     },
     "execution_count": 261,
     "metadata": {},
     "output_type": "execute_result"
    }
   ],
   "source": [
    "iev = 3\n",
    "len(df[\"jets_cmb\"].iloc[iev]),dfnusol.iloc[iev].shape"
   ]
  },
  {
   "cell_type": "code",
   "execution_count": null,
   "metadata": {},
   "outputs": [],
   "source": []
  }
 ],
 "metadata": {
  "kernelspec": {
   "display_name": "Python 3",
   "language": "python",
   "name": "python3"
  },
  "language_info": {
   "codemirror_mode": {
    "name": "ipython",
    "version": 3
   },
   "file_extension": ".py",
   "mimetype": "text/x-python",
   "name": "python",
   "nbconvert_exporter": "python",
   "pygments_lexer": "ipython3",
   "version": "3.6.1"
  }
 },
 "nbformat": 4,
 "nbformat_minor": 2
}
