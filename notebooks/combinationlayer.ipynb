{
 "cells": [
  {
   "cell_type": "code",
   "execution_count": 1,
   "metadata": {},
   "outputs": [
    {
     "name": "stderr",
     "output_type": "stream",
     "text": [
      "Using TensorFlow backend.\n"
     ]
    }
   ],
   "source": [
    "from __future__ import print_function\n",
    "import os\n",
    "os.environ[\"KERAS_BACKEND\"] = \"tensorflow\"\n",
    "import tensorflow as tf\n",
    "import keras\n",
    "from keras.layers import Layer\n",
    "import jlr_util\n",
    "import numpy as np\n",
    "from keras import backend as K\n",
    "np.set_printoptions(precision=2)\n",
    "import matplotlib\n",
    "import matplotlib.pyplot as plt\n",
    "%matplotlib inline"
   ]
  },
  {
   "cell_type": "code",
   "execution_count": 2,
   "metadata": {},
   "outputs": [],
   "source": [
    "class TrainableCombinationLayer(Layer):\n",
    "    def __init__(self, output_dim, **kwargs):\n",
    "        self.output_dim = output_dim\n",
    "        super(CombinationLayer, self).__init__(**kwargs)\n",
    "\n",
    "    def build(self, input_shape):\n",
    "        #weight is trained\n",
    "        self.kernel = self.add_weight(\n",
    "            name='kernel',\n",
    "            shape=(self.output_dim, input_shape[1]),\n",
    "            initializer='uniform',\n",
    "            trainable=True,\n",
    "            #constraint=keras.constraints.UnitNorm(axis=1)\n",
    "        )\n",
    "        super(CombinationLayer, self).build(input_shape)\n",
    "\n",
    "    def compute_output_shape(self, input_shape):\n",
    "        return (input_shape[0][0], self.output_dim, input_shape[0][2])\n",
    "    \n",
    "    def call(self, x):\n",
    "        prod = K.batch_dot(self.kernel, x, axes=[2,1])\n",
    "        prod = tf.where(tf.is_nan(prod), tf.zeros_like(prod), prod)\n",
    "        return prod"
   ]
  },
  {
   "cell_type": "code",
   "execution_count": 3,
   "metadata": {},
   "outputs": [],
   "source": [
    "class CombinationLayer(Layer):\n",
    "    def __init__(self, output_dim, **kwargs):\n",
    "        self.output_dim = output_dim\n",
    "        super(CombinationLayer, self).__init__(**kwargs)\n",
    "\n",
    "    def build(self, input_shape):\n",
    "        super(CombinationLayer, self).build(input_shape)\n",
    "\n",
    "    def compute_output_shape(self, input_shape):\n",
    "        return (input_shape[0][0], self.output_dim, input_shape[0][2])\n",
    "    \n",
    "    def call(self, inp):\n",
    "        x, kernel = inp\n",
    "        prod = K.batch_dot(kernel, x, axes=[2,1])\n",
    "        prod = tf.where(tf.is_nan(prod), tf.zeros_like(prod), prod)\n",
    "        return prod"
   ]
  },
  {
   "cell_type": "code",
   "execution_count": 4,
   "metadata": {},
   "outputs": [],
   "source": [
    "def minkowski_init(shape, dtype=None):\n",
    "    return K.cast(tf.diag([1,1,1,-1]), dtype=K.floatx())\n",
    "\n",
    "\n",
    "class InnerpProductLayer(Layer):\n",
    "    def __init__(self, **kwargs):\n",
    "        super(BilinearLayer, self).__init__(**kwargs)\n",
    "\n",
    "    def build(self, input_shape):\n",
    "        self.kernel = self.add_weight(\n",
    "            name='kernel',\n",
    "            shape=(4, 4),\n",
    "            initializer=minkowski_init,\n",
    "            trainable=False,\n",
    "            #constraint=keras.constraints.UnitNorm(axis=1),\n",
    "        )\n",
    "        super(BilinearLayer, self).build(input_shape)\n",
    "\n",
    "    def compute_output_shape(self, input_shape):\n",
    "        return (input_shape[0][0], input_shape[1][1], input_shape[0][1])\n",
    "    \n",
    "    def matprod(self, x1, x2):\n",
    "        x1t = tf.transpose(x1,[0,2,1])\n",
    "        a = tf.transpose(K.dot(self.kernel, x1t), [1,0,2])\n",
    "        prod = K.batch_dot(x2, a, axes=[2,1])\n",
    "        return prod\n",
    "    \n",
    "    def norms(self, x):\n",
    "        p = self.matprod(x, x)\n",
    "        return tf.matrix_diag_part(p)\n",
    "    \n",
    "    def call(self, xs):\n",
    "        x1, x2 = xs\n",
    "        #print(\"norm\", x1n.shape)\n",
    "        #x1n = K.repeat(self.norms(x1), x1.shape[1])\n",
    "        #x2n = K.repeat(self.norms(x2), x1.shape[1])\n",
    "        prod = self.matprod(x1, x2)\n",
    "        #prod = tf.divide(prod, x1n)\n",
    "        #prod = tf.divide(prod, x2n)\n",
    "        #prod = tf.where(tf.is_nan(prod), tf.zeros_like(prod), prod)\n",
    "        return prod"
   ]
  },
  {
   "cell_type": "code",
   "execution_count": 8,
   "metadata": {},
   "outputs": [],
   "source": [
    "X, Xadditional, Xmatch, y = jlr_util.load_data(\"data/processed/data_fh_match.npz\")"
   ]
  },
  {
   "cell_type": "code",
   "execution_count": 1477,
   "metadata": {},
   "outputs": [],
   "source": [
    "X_train = X[0:15000, :4*9].reshape(15000, 9,4)\n",
    "X_test = X[15000:23000, :4*9].reshape(8000, 9,4)"
   ]
  },
  {
   "cell_type": "code",
   "execution_count": 1478,
   "metadata": {},
   "outputs": [],
   "source": [
    "Xparton_train = Xparton[0:15000, :].reshape(15000, 4,4)\n",
    "Xparton_test = Xparton[15000:23000, :].reshape(8000, 4,4)"
   ]
  },
  {
   "cell_type": "code",
   "execution_count": 1651,
   "metadata": {},
   "outputs": [
    {
     "name": "stdout",
     "output_type": "stream",
     "text": [
      "__________________________________________________________________________________________________\n",
      "Layer (type)                    Output Shape         Param #     Connected to                     \n",
      "==================================================================================================\n",
      "input (InputLayer)              (None, 9, 4)         0                                            \n",
      "__________________________________________________________________________________________________\n",
      "flatten_412 (Flatten)           (None, 36)           0           input[0][0]                      \n",
      "__________________________________________________________________________________________________\n",
      "batch_normalization_115 (BatchN (None, 36)           144         flatten_412[0][0]                \n",
      "__________________________________________________________________________________________________\n",
      "dense_494 (Dense)               (None, 128)          4736        batch_normalization_115[0][0]    \n",
      "__________________________________________________________________________________________________\n",
      "dropout_173 (Dropout)           (None, 128)          0           dense_494[0][0]                  \n",
      "__________________________________________________________________________________________________\n",
      "dense_495 (Dense)               (None, 128)          16512       dropout_173[0][0]                \n",
      "__________________________________________________________________________________________________\n",
      "dropout_174 (Dropout)           (None, 128)          0           dense_495[0][0]                  \n",
      "__________________________________________________________________________________________________\n",
      "dense_496 (Dense)               (None, 128)          16512       dropout_174[0][0]                \n",
      "__________________________________________________________________________________________________\n",
      "dropout_175 (Dropout)           (None, 128)          0           dense_496[0][0]                  \n",
      "__________________________________________________________________________________________________\n",
      "dense_497 (Dense)               (None, 180)          23220       dropout_175[0][0]                \n",
      "__________________________________________________________________________________________________\n",
      "reshape_161 (Reshape)           (None, 20, 9)        0           dense_497[0][0]                  \n",
      "__________________________________________________________________________________________________\n",
      "comb1 (CombinationLayer)        (None, 20, 4)        0           input[0][0]                      \n",
      "                                                                 reshape_161[0][0]                \n",
      "__________________________________________________________________________________________________\n",
      "flatten_413 (Flatten)           (None, 80)           0           comb1[0][0]                      \n",
      "__________________________________________________________________________________________________\n",
      "batch_normalization_116 (BatchN (None, 80)           320         flatten_413[0][0]                \n",
      "__________________________________________________________________________________________________\n",
      "dense_498 (Dense)               (None, 128)          10368       batch_normalization_116[0][0]    \n",
      "__________________________________________________________________________________________________\n",
      "dropout_176 (Dropout)           (None, 128)          0           dense_498[0][0]                  \n",
      "__________________________________________________________________________________________________\n",
      "dense_499 (Dense)               (None, 128)          16512       dropout_176[0][0]                \n",
      "__________________________________________________________________________________________________\n",
      "dropout_177 (Dropout)           (None, 128)          0           dense_499[0][0]                  \n",
      "__________________________________________________________________________________________________\n",
      "dense_500 (Dense)               (None, 128)          16512       dropout_177[0][0]                \n",
      "__________________________________________________________________________________________________\n",
      "dropout_178 (Dropout)           (None, 128)          0           dense_500[0][0]                  \n",
      "__________________________________________________________________________________________________\n",
      "dense_501 (Dense)               (None, 80)           10320       dropout_178[0][0]                \n",
      "__________________________________________________________________________________________________\n",
      "reshape_162 (Reshape)           (None, 4, 20)        0           dense_501[0][0]                  \n",
      "__________________________________________________________________________________________________\n",
      "comb2 (CombinationLayer)        (None, 4, 4)         0           comb1[0][0]                      \n",
      "                                                                 reshape_162[0][0]                \n",
      "__________________________________________________________________________________________________\n",
      "flatten_414 (Flatten)           (None, 16)           0           comb2[0][0]                      \n",
      "__________________________________________________________________________________________________\n",
      "concatenate_136 (Concatenate)   (None, 132)          0           flatten_412[0][0]                \n",
      "                                                                 flatten_413[0][0]                \n",
      "                                                                 flatten_414[0][0]                \n",
      "__________________________________________________________________________________________________\n",
      "batch_normalization_117 (BatchN (None, 132)          528         concatenate_136[0][0]            \n",
      "__________________________________________________________________________________________________\n",
      "dense_502 (Dense)               (None, 128)          17024       batch_normalization_117[0][0]    \n",
      "__________________________________________________________________________________________________\n",
      "dropout_179 (Dropout)           (None, 128)          0           dense_502[0][0]                  \n",
      "__________________________________________________________________________________________________\n",
      "dense_503 (Dense)               (None, 128)          16512       dropout_179[0][0]                \n",
      "__________________________________________________________________________________________________\n",
      "dropout_180 (Dropout)           (None, 128)          0           dense_503[0][0]                  \n",
      "__________________________________________________________________________________________________\n",
      "dense_504 (Dense)               (None, 128)          16512       dropout_180[0][0]                \n",
      "__________________________________________________________________________________________________\n",
      "dropout_181 (Dropout)           (None, 128)          0           dense_504[0][0]                  \n",
      "__________________________________________________________________________________________________\n",
      "dense_505 (Dense)               (None, 16)           2064        dropout_181[0][0]                \n",
      "__________________________________________________________________________________________________\n",
      "reshape_163 (Reshape)           (None, 4, 4)         0           dense_505[0][0]                  \n",
      "==================================================================================================\n",
      "Total params: 167,796\n",
      "Trainable params: 167,300\n",
      "Non-trainable params: 496\n",
      "__________________________________________________________________________________________________\n"
     ]
    }
   ],
   "source": [
    "#combination layer model\n",
    "inputs = keras.layers.Input(shape=(X_train.shape[1], X_train.shape[2]), name=\"input\")\n",
    "f1 = keras.layers.Flatten()(inputs)\n",
    "\n",
    "bn = keras.layers.BatchNormalization()(f1)\n",
    "d = keras.layers.Dense(128, activation=\"tanh\")(bn)\n",
    "d = keras.layers.Dropout(0.5)(d)\n",
    "d = keras.layers.Dense(128, activation=\"tanh\")(d)\n",
    "d = keras.layers.Dropout(0.5)(d)\n",
    "d = keras.layers.Dense(128, activation=\"tanh\")(d)\n",
    "d = keras.layers.Dropout(0.5)(d)\n",
    "d = keras.layers.Dense(20*9, activation=\"linear\")(d)\n",
    "d = keras.layers.Reshape((20,9))(d)\n",
    "p = CombinationLayer(20, name=\"comb1\")([inputs, d])\n",
    "f2 = keras.layers.Flatten()(p)\n",
    "\n",
    "bn = keras.layers.BatchNormalization()(f2)\n",
    "d = keras.layers.Dense(128, activation=\"tanh\")(bn)\n",
    "d = keras.layers.Dropout(0.5)(d)\n",
    "d = keras.layers.Dense(128, activation=\"tanh\")(d)\n",
    "d = keras.layers.Dropout(0.5)(d)\n",
    "d = keras.layers.Dense(128, activation=\"tanh\")(d)\n",
    "d = keras.layers.Dropout(0.5)(d)\n",
    "d = keras.layers.Dense(4*20, activation=\"linear\")(d)\n",
    "d = keras.layers.Reshape((4,20))(d)\n",
    "p = CombinationLayer(4, name=\"comb2\")([p, d])\n",
    "f3 = keras.layers.Flatten()(p)\n",
    "\n",
    "c = keras.layers.Concatenate()([f1, f2, f3])\n",
    "\n",
    "bn = keras.layers.BatchNormalization()(c)\n",
    "d = keras.layers.Dense(128, activation=\"tanh\")(bn)\n",
    "d = keras.layers.Dropout(0.5)(d)\n",
    "d = keras.layers.Dense(128, activation=\"tanh\")(d)\n",
    "d = keras.layers.Dropout(0.5)(d)\n",
    "d = keras.layers.Dense(128, activation=\"tanh\")(d)\n",
    "d = keras.layers.Dropout(0.5)(d)\n",
    "d = keras.layers.Dense(4*4, activation=\"linear\")(d)\n",
    "r = keras.layers.Reshape((4,4))(d)\n",
    "\n",
    "#r = keras.layers.Flatten()(p)\n",
    "\n",
    "model = keras.models.Model(inputs=inputs, outputs=r)\n",
    "\n",
    "opt = keras.optimizers.Adam(lr=0.005)\n",
    "model.compile(opt, loss=\"mse\")\n",
    "\n",
    "model.summary()"
   ]
  },
  {
   "cell_type": "code",
   "execution_count": 1652,
   "metadata": {},
   "outputs": [
    {
     "name": "stdout",
     "output_type": "stream",
     "text": [
      "_________________________________________________________________\n",
      "Layer (type)                 Output Shape              Param #   \n",
      "=================================================================\n",
      "input (InputLayer)           (None, 9, 4)              0         \n",
      "_________________________________________________________________\n",
      "flatten_415 (Flatten)        (None, 36)                0         \n",
      "_________________________________________________________________\n",
      "batch_normalization_118 (Bat (None, 36)                144       \n",
      "_________________________________________________________________\n",
      "dense_506 (Dense)            (None, 128)               4736      \n",
      "_________________________________________________________________\n",
      "dropout_182 (Dropout)        (None, 128)               0         \n",
      "_________________________________________________________________\n",
      "dense_507 (Dense)            (None, 128)               16512     \n",
      "_________________________________________________________________\n",
      "dropout_183 (Dropout)        (None, 128)               0         \n",
      "_________________________________________________________________\n",
      "dense_508 (Dense)            (None, 128)               16512     \n",
      "_________________________________________________________________\n",
      "dropout_184 (Dropout)        (None, 128)               0         \n",
      "_________________________________________________________________\n",
      "dense_509 (Dense)            (None, 128)               16512     \n",
      "_________________________________________________________________\n",
      "dropout_185 (Dropout)        (None, 128)               0         \n",
      "_________________________________________________________________\n",
      "dense_510 (Dense)            (None, 16)                2064      \n",
      "_________________________________________________________________\n",
      "reshape_164 (Reshape)        (None, 4, 4)              0         \n",
      "=================================================================\n",
      "Total params: 56,480\n",
      "Trainable params: 56,408\n",
      "Non-trainable params: 72\n",
      "_________________________________________________________________\n"
     ]
    }
   ],
   "source": [
    "#baseline feedforward model\n",
    "inputs2 = keras.layers.Input(shape=(X_train.shape[1], X_train.shape[2]), name=\"input\")\n",
    "f1 = keras.layers.Flatten()(inputs2)\n",
    "\n",
    "d = keras.layers.BatchNormalization()(f1)\n",
    "\n",
    "for i in range(4):\n",
    "    d = keras.layers.Dense(128, activation=\"tanh\")(d)\n",
    "    d = keras.layers.Dropout(0.5)(d)\n",
    "\n",
    "d = keras.layers.Dense(4*4, activation=\"linear\")(d)\n",
    "r = keras.layers.Reshape((4,4))(d)\n",
    "\n",
    "model2 = keras.models.Model(inputs=inputs2, outputs=r)\n",
    "opt = keras.optimizers.Adam(lr=0.005)\n",
    "model2.compile(opt, loss=\"mse\")\n",
    "model2.summary()"
   ]
  },
  {
   "cell_type": "code",
   "execution_count": 1653,
   "metadata": {},
   "outputs": [
    {
     "name": "stdout",
     "output_type": "stream",
     "text": [
      "Train on 15000 samples, validate on 8000 samples\n",
      "Epoch 1/50\n",
      "15000/15000 [==============================] - 12s 780us/step - loss: 25945.7193 - val_loss: 23776.2517\n",
      "Epoch 2/50\n",
      "15000/15000 [==============================] - 2s 105us/step - loss: 22065.6061 - val_loss: 21062.0330\n",
      "Epoch 3/50\n",
      "15000/15000 [==============================] - 2s 111us/step - loss: 20106.4667 - val_loss: 19553.7099\n",
      "Epoch 4/50\n",
      "15000/15000 [==============================] - 2s 113us/step - loss: 19069.6128 - val_loss: 18683.0346\n",
      "Epoch 5/50\n",
      "15000/15000 [==============================] - 2s 106us/step - loss: 18459.7455 - val_loss: 18137.7199\n",
      "Epoch 6/50\n",
      "15000/15000 [==============================] - 2s 108us/step - loss: 18037.1188 - val_loss: 17805.3394\n",
      "Epoch 7/50\n",
      "15000/15000 [==============================] - 2s 109us/step - loss: 17817.8646 - val_loss: 17521.2921\n",
      "Epoch 8/50\n",
      "15000/15000 [==============================] - 2s 109us/step - loss: 17655.6583 - val_loss: 17341.5905\n",
      "Epoch 9/50\n",
      "15000/15000 [==============================] - 2s 111us/step - loss: 17525.5381 - val_loss: 17256.8858\n",
      "Epoch 10/50\n",
      "15000/15000 [==============================] - 2s 110us/step - loss: 17461.3904 - val_loss: 17139.2881\n",
      "Epoch 11/50\n",
      "15000/15000 [==============================] - 2s 110us/step - loss: 17412.5388 - val_loss: 17084.3820\n",
      "Epoch 12/50\n",
      "15000/15000 [==============================] - 2s 109us/step - loss: 17384.9845 - val_loss: 17006.0658\n",
      "Epoch 13/50\n",
      "15000/15000 [==============================] - 2s 106us/step - loss: 17310.6102 - val_loss: 16963.1543\n",
      "Epoch 14/50\n",
      "15000/15000 [==============================] - 2s 105us/step - loss: 17344.3255 - val_loss: 16997.2115\n",
      "Epoch 15/50\n",
      "15000/15000 [==============================] - 2s 109us/step - loss: 17307.0893 - val_loss: 16895.5988\n",
      "Epoch 16/50\n",
      "15000/15000 [==============================] - 2s 108us/step - loss: 17295.4418 - val_loss: 16869.5868\n",
      "Epoch 17/50\n",
      "15000/15000 [==============================] - 2s 107us/step - loss: 17275.0207 - val_loss: 16861.6746\n",
      "Epoch 18/50\n",
      "15000/15000 [==============================] - 2s 130us/step - loss: 17242.5450 - val_loss: 16832.3606\n",
      "Epoch 19/50\n",
      "15000/15000 [==============================] - 2s 110us/step - loss: 17227.6287 - val_loss: 16854.9639\n",
      "Epoch 20/50\n",
      "15000/15000 [==============================] - 2s 108us/step - loss: 17245.7016 - val_loss: 16793.0861\n",
      "Epoch 21/50\n",
      "15000/15000 [==============================] - 2s 108us/step - loss: 17228.4155 - val_loss: 16878.3654\n",
      "Epoch 22/50\n",
      "15000/15000 [==============================] - 2s 110us/step - loss: 17165.8512 - val_loss: 16787.3977\n",
      "Epoch 23/50\n",
      "15000/15000 [==============================] - 2s 109us/step - loss: 17189.0021 - val_loss: 16780.5810\n",
      "Epoch 24/50\n",
      "15000/15000 [==============================] - 2s 111us/step - loss: 17139.7489 - val_loss: 16767.9559\n",
      "Epoch 25/50\n",
      "15000/15000 [==============================] - 2s 107us/step - loss: 17152.6349 - val_loss: 16756.7225\n",
      "Epoch 26/50\n",
      "15000/15000 [==============================] - 2s 111us/step - loss: 17175.0655 - val_loss: 16754.1758\n",
      "Epoch 27/50\n",
      "15000/15000 [==============================] - 2s 109us/step - loss: 17164.8921 - val_loss: 16740.2442\n",
      "Epoch 28/50\n",
      "15000/15000 [==============================] - 2s 117us/step - loss: 17175.1531 - val_loss: 16785.2596\n",
      "Epoch 29/50\n",
      "15000/15000 [==============================] - 2s 108us/step - loss: 17201.0486 - val_loss: 16777.0369\n",
      "Epoch 30/50\n",
      "15000/15000 [==============================] - 2s 107us/step - loss: 17157.1075 - val_loss: 16854.0168\n",
      "Epoch 31/50\n",
      "15000/15000 [==============================] - 2s 110us/step - loss: 17179.2375 - val_loss: 16732.6454\n",
      "Epoch 32/50\n",
      "15000/15000 [==============================] - 2s 110us/step - loss: 17202.2062 - val_loss: 16840.2062\n",
      "Epoch 33/50\n",
      "15000/15000 [==============================] - 2s 108us/step - loss: 17199.0036 - val_loss: 16726.0815\n",
      "Epoch 34/50\n",
      "15000/15000 [==============================] - 2s 107us/step - loss: 17186.2796 - val_loss: 16782.9224\n",
      "Epoch 35/50\n",
      "15000/15000 [==============================] - 2s 108us/step - loss: 17173.7014 - val_loss: 16838.8184\n",
      "Epoch 36/50\n",
      "15000/15000 [==============================] - 2s 110us/step - loss: 17161.7389 - val_loss: 16736.0290\n",
      "Epoch 37/50\n",
      "15000/15000 [==============================] - 2s 110us/step - loss: 17156.2790 - val_loss: 16811.0085\n",
      "Epoch 38/50\n",
      "15000/15000 [==============================] - 2s 112us/step - loss: 17165.9448 - val_loss: 16742.7919\n",
      "Epoch 39/50\n",
      "15000/15000 [==============================] - 2s 110us/step - loss: 17168.8346 - val_loss: 16778.0308\n",
      "Epoch 40/50\n",
      "15000/15000 [==============================] - 2s 111us/step - loss: 17179.8020 - val_loss: 16745.2917\n",
      "Epoch 41/50\n",
      "15000/15000 [==============================] - 2s 108us/step - loss: 17163.3150 - val_loss: 16740.0322\n",
      "Epoch 42/50\n",
      "15000/15000 [==============================] - 2s 107us/step - loss: 17164.1920 - val_loss: 16838.3500\n",
      "Epoch 43/50\n",
      "15000/15000 [==============================] - 2s 110us/step - loss: 17166.5547 - val_loss: 16757.6599\n",
      "Epoch 44/50\n",
      "15000/15000 [==============================] - 2s 113us/step - loss: 17165.0032 - val_loss: 16734.7344\n",
      "Epoch 45/50\n",
      "15000/15000 [==============================] - 2s 113us/step - loss: 17154.1371 - val_loss: 16741.9272\n",
      "Epoch 46/50\n",
      "15000/15000 [==============================] - 2s 109us/step - loss: 17133.7515 - val_loss: 16754.4546\n",
      "Epoch 47/50\n",
      "15000/15000 [==============================] - 2s 107us/step - loss: 17152.1617 - val_loss: 16756.6423\n",
      "Epoch 48/50\n",
      "15000/15000 [==============================] - 2s 109us/step - loss: 17143.7112 - val_loss: 16741.3023\n",
      "Epoch 49/50\n",
      "15000/15000 [==============================] - 2s 108us/step - loss: 17099.4730 - val_loss: 16742.1175\n",
      "Epoch 50/50\n",
      "15000/15000 [==============================] - 2s 108us/step - loss: 17134.4894 - val_loss: 16742.1295\n"
     ]
    }
   ],
   "source": [
    "ret2 = model2.fit(X_train, Xparton_train, validation_data=(X_test, Xparton_test), epochs=50, batch_size=100)"
   ]
  },
  {
   "cell_type": "code",
   "execution_count": 1654,
   "metadata": {
    "scrolled": false
   },
   "outputs": [
    {
     "name": "stdout",
     "output_type": "stream",
     "text": [
      "Train on 15000 samples, validate on 8000 samples\n",
      "Epoch 1/50\n",
      "15000/15000 [==============================] - 13s 839us/step - loss: 25960.6398 - val_loss: 23870.4041\n",
      "Epoch 2/50\n",
      "15000/15000 [==============================] - 3s 179us/step - loss: 21987.5254 - val_loss: 21035.4649\n",
      "Epoch 3/50\n",
      "15000/15000 [==============================] - 3s 183us/step - loss: 20016.5836 - val_loss: 19543.7357\n",
      "Epoch 4/50\n",
      "15000/15000 [==============================] - 3s 172us/step - loss: 18946.0853 - val_loss: 18669.0332\n",
      "Epoch 5/50\n",
      "15000/15000 [==============================] - 3s 178us/step - loss: 18289.2915 - val_loss: 18106.8027\n",
      "Epoch 6/50\n",
      "15000/15000 [==============================] - 3s 172us/step - loss: 17897.6845 - val_loss: 17762.9656\n",
      "Epoch 7/50\n",
      "15000/15000 [==============================] - 3s 176us/step - loss: 17641.5178 - val_loss: 17497.1408\n",
      "Epoch 8/50\n",
      "15000/15000 [==============================] - 3s 168us/step - loss: 17481.1503 - val_loss: 17316.9062\n",
      "Epoch 9/50\n",
      "15000/15000 [==============================] - 3s 169us/step - loss: 17376.1439 - val_loss: 17186.2544\n",
      "Epoch 10/50\n",
      "15000/15000 [==============================] - 3s 175us/step - loss: 17280.8303 - val_loss: 17106.5369\n",
      "Epoch 11/50\n",
      "15000/15000 [==============================] - 3s 173us/step - loss: 17223.6673 - val_loss: 17021.4838\n",
      "Epoch 12/50\n",
      "15000/15000 [==============================] - 3s 171us/step - loss: 17175.6139 - val_loss: 16960.6483\n",
      "Epoch 13/50\n",
      "15000/15000 [==============================] - 3s 173us/step - loss: 17155.8056 - val_loss: 16924.4155\n",
      "Epoch 14/50\n",
      "15000/15000 [==============================] - 3s 178us/step - loss: 17119.9632 - val_loss: 16881.7377\n",
      "Epoch 15/50\n",
      "15000/15000 [==============================] - 3s 179us/step - loss: 17101.0775 - val_loss: 16843.8399\n",
      "Epoch 16/50\n",
      "15000/15000 [==============================] - 3s 170us/step - loss: 17077.3410 - val_loss: 16855.2727\n",
      "Epoch 17/50\n",
      "15000/15000 [==============================] - 3s 174us/step - loss: 17073.9074 - val_loss: 16786.9267\n",
      "Epoch 18/50\n",
      "15000/15000 [==============================] - 3s 178us/step - loss: 17091.9563 - val_loss: 16787.3931\n",
      "Epoch 19/50\n",
      "15000/15000 [==============================] - 3s 175us/step - loss: 17036.1902 - val_loss: 16764.1513\n",
      "Epoch 20/50\n",
      "15000/15000 [==============================] - 3s 177us/step - loss: 17041.3910 - val_loss: 16756.0949\n",
      "Epoch 21/50\n",
      "15000/15000 [==============================] - 3s 176us/step - loss: 17048.0024 - val_loss: 16775.7286\n",
      "Epoch 22/50\n",
      "15000/15000 [==============================] - 3s 174us/step - loss: 17019.5180 - val_loss: 16738.5416\n",
      "Epoch 23/50\n",
      "15000/15000 [==============================] - 3s 173us/step - loss: 17023.3890 - val_loss: 16730.6922\n",
      "Epoch 24/50\n",
      "15000/15000 [==============================] - 3s 171us/step - loss: 17039.0033 - val_loss: 16710.7045\n",
      "Epoch 25/50\n",
      "15000/15000 [==============================] - 3s 171us/step - loss: 17002.9344 - val_loss: 16719.8477\n",
      "Epoch 26/50\n",
      "15000/15000 [==============================] - 3s 174us/step - loss: 17001.3520 - val_loss: 16728.5803\n",
      "Epoch 27/50\n",
      "15000/15000 [==============================] - 3s 187us/step - loss: 17005.4301 - val_loss: 16701.8914\n",
      "Epoch 28/50\n",
      "15000/15000 [==============================] - 3s 179us/step - loss: 17005.4389 - val_loss: 16710.8679\n",
      "Epoch 29/50\n",
      "15000/15000 [==============================] - 3s 180us/step - loss: 17011.2129 - val_loss: 16709.3783\n",
      "Epoch 30/50\n",
      "15000/15000 [==============================] - 3s 175us/step - loss: 17002.1135 - val_loss: 16716.1031\n",
      "Epoch 31/50\n",
      "15000/15000 [==============================] - 3s 175us/step - loss: 17009.5769 - val_loss: 16690.6467\n",
      "Epoch 32/50\n",
      "15000/15000 [==============================] - 3s 172us/step - loss: 17010.3907 - val_loss: 16688.4847\n",
      "Epoch 33/50\n",
      "15000/15000 [==============================] - 3s 176us/step - loss: 16991.2151 - val_loss: 16690.1567\n",
      "Epoch 34/50\n",
      "15000/15000 [==============================] - 3s 176us/step - loss: 17019.0500 - val_loss: 16710.1628\n",
      "Epoch 35/50\n",
      "15000/15000 [==============================] - 3s 177us/step - loss: 16983.1784 - val_loss: 16691.9234\n",
      "Epoch 36/50\n",
      "15000/15000 [==============================] - 3s 172us/step - loss: 16991.0824 - val_loss: 16686.8000\n",
      "Epoch 37/50\n",
      "15000/15000 [==============================] - 3s 191us/step - loss: 17021.2478 - val_loss: 16699.2922\n",
      "Epoch 38/50\n",
      "15000/15000 [==============================] - 3s 185us/step - loss: 17009.0996 - val_loss: 16703.3070\n",
      "Epoch 39/50\n",
      "15000/15000 [==============================] - 3s 175us/step - loss: 16964.4154 - val_loss: 16692.6496\n",
      "Epoch 40/50\n",
      "15000/15000 [==============================] - 3s 173us/step - loss: 17010.3820 - val_loss: 16684.4552\n",
      "Epoch 41/50\n",
      "15000/15000 [==============================] - 3s 178us/step - loss: 17018.2109 - val_loss: 16695.7218\n",
      "Epoch 42/50\n",
      "15000/15000 [==============================] - 3s 174us/step - loss: 16991.4329 - val_loss: 16697.7709\n",
      "Epoch 43/50\n",
      "15000/15000 [==============================] - 3s 175us/step - loss: 16994.1977 - val_loss: 16686.4234\n",
      "Epoch 44/50\n",
      "15000/15000 [==============================] - 3s 176us/step - loss: 16984.5475 - val_loss: 16681.4668\n",
      "Epoch 45/50\n",
      "15000/15000 [==============================] - 3s 175us/step - loss: 16984.9567 - val_loss: 16681.8857\n",
      "Epoch 46/50\n",
      "15000/15000 [==============================] - 3s 180us/step - loss: 16979.0444 - val_loss: 16673.8867\n",
      "Epoch 47/50\n",
      "15000/15000 [==============================] - 3s 177us/step - loss: 17013.7168 - val_loss: 16678.3679\n",
      "Epoch 48/50\n",
      "15000/15000 [==============================] - 3s 173us/step - loss: 16969.2888 - val_loss: 16673.6367\n",
      "Epoch 49/50\n",
      "15000/15000 [==============================] - 3s 177us/step - loss: 17001.9346 - val_loss: 16678.8505\n",
      "Epoch 50/50\n",
      "15000/15000 [==============================] - 3s 179us/step - loss: 16962.1804 - val_loss: 16681.5593\n"
     ]
    }
   ],
   "source": [
    "ret = model.fit(X_train, Xparton_train, validation_data=(X_test, Xparton_test), epochs=50, batch_size=100)"
   ]
  },
  {
   "cell_type": "code",
   "execution_count": 1655,
   "metadata": {},
   "outputs": [
    {
     "data": {
      "text/plain": [
       "[<matplotlib.lines.Line2D at 0x16f86a1d0>]"
      ]
     },
     "execution_count": 1655,
     "metadata": {},
     "output_type": "execute_result"
    },
    {
     "data": {
      "image/png": "[encoded data removed]",
      "text/plain": [
       "<Figure size 432x288 with 1 Axes>"
      ]
     },
     "metadata": {},
     "output_type": "display_data"
    }
   ],
   "source": [
    "plt.plot(ret.history[\"loss\"])\n",
    "plt.plot(ret.history[\"val_loss\"])\n",
    "\n",
    "plt.plot(ret2.history[\"loss\"])\n",
    "plt.plot(ret2.history[\"val_loss\"])"
   ]
  },
  {
   "cell_type": "code",
   "execution_count": 1656,
   "metadata": {},
   "outputs": [
    {
     "data": {
      "text/plain": [
       "[(0, <keras.engine.topology.InputLayer at 0x13d30b310>),\n",
       " (1, <keras.layers.core.Flatten at 0x168c80910>),\n",
       " (2, <keras.layers.normalization.BatchNormalization at 0x167252250>),\n",
       " (3, <keras.layers.core.Dense at 0x167289950>),\n",
       " (4, <keras.layers.core.Dropout at 0x167289990>),\n",
       " (5, <keras.layers.core.Dense at 0x167280510>),\n",
       " (6, <keras.layers.core.Dropout at 0x1673727d0>),\n",
       " (7, <keras.layers.core.Dense at 0x16747df50>),\n",
       " (8, <keras.layers.core.Dropout at 0x16748c650>),\n",
       " (9, <keras.layers.core.Dense at 0x167a589d0>),\n",
       " (10, <keras.layers.core.Reshape at 0x167a67f10>),\n",
       " (11, <__main__.CombinationLayer at 0x167e955d0>),\n",
       " (12, <keras.layers.core.Flatten at 0x167e95690>),\n",
       " (13, <keras.layers.normalization.BatchNormalization at 0x167ea3d50>),\n",
       " (14, <keras.layers.core.Dense at 0x167fe2b90>),\n",
       " (15, <keras.layers.core.Dropout at 0x167fe2fd0>),\n",
       " (16, <keras.layers.core.Dense at 0x168043510>),\n",
       " (17, <keras.layers.core.Dropout at 0x168139850>),\n",
       " (18, <keras.layers.core.Dense at 0x168205d50>),\n",
       " (19, <keras.layers.core.Dropout at 0x168212710>),\n",
       " (20, <keras.layers.core.Dense at 0x168243850>),\n",
       " (21, <keras.layers.core.Reshape at 0x168243910>),\n",
       " (22, <__main__.CombinationLayer at 0x168603410>),\n",
       " (23, <keras.layers.core.Flatten at 0x16896ab90>),\n",
       " (24, <keras.layers.merge.Concatenate at 0x1686034d0>),\n",
       " (25, <keras.layers.normalization.BatchNormalization at 0x16899ca90>),\n",
       " (26, <keras.layers.core.Dense at 0x1689abd50>),\n",
       " (27, <keras.layers.core.Dropout at 0x1689bcf10>),\n",
       " (28, <keras.layers.core.Dense at 0x1689cb310>),\n",
       " (29, <keras.layers.core.Dropout at 0x168a83990>),\n",
       " (30, <keras.layers.core.Dense at 0x168d6fe90>),\n",
       " (31, <keras.layers.core.Dropout at 0x168d7e5d0>),\n",
       " (32, <keras.layers.core.Dense at 0x168daf950>),\n",
       " (33, <keras.layers.core.Reshape at 0x168dbfe10>)]"
      ]
     },
     "execution_count": 1656,
     "metadata": {},
     "output_type": "execute_result"
    }
   ],
   "source": [
    "[(il, l) for il, l in enumerate(model.layers)]"
   ]
  },
  {
   "cell_type": "code",
   "execution_count": 1657,
   "metadata": {
    "scrolled": false
   },
   "outputs": [
    {
     "data": {
      "image/png": "[encoded data removed]",
      "text/plain": [
       "<Figure size 432x288 with 2 Axes>"
      ]
     },
     "metadata": {},
     "output_type": "display_data"
    },
    {
     "data": {
      "image/png": "[encoded data removed]",
      "text/plain": [
       "<Figure size 432x288 with 2 Axes>"
      ]
     },
     "metadata": {},
     "output_type": "display_data"
    },
    {
     "data": {
      "image/png": "[encoded data removed]",
      "text/plain": [
       "<Figure size 432x288 with 2 Axes>"
      ]
     },
     "metadata": {},
     "output_type": "display_data"
    },
    {
     "data": {
      "image/png": "[encoded data removed]",
      "text/plain": [
       "<Figure size 432x288 with 2 Axes>"
      ]
     },
     "metadata": {},
     "output_type": "display_data"
    },
    {
     "data": {
      "image/png": "[encoded data removed]",
      "text/plain": [
       "<Figure size 432x288 with 2 Axes>"
      ]
     },
     "metadata": {},
     "output_type": "display_data"
    }
   ],
   "source": [
    "l = model.layers[10]\n",
    "for i in range(5):\n",
    "    plt.figure()\n",
    "    m = l.output.eval(session=K.get_session(), feed_dict={inputs: X_test[i:i+1]})[0, :, :]\n",
    "    plt.imshow(m, cmap=\"seismic\")\n",
    "    plt.colorbar()"
   ]
  },
  {
   "cell_type": "code",
   "execution_count": 1630,
   "metadata": {},
   "outputs": [
    {
     "data": {
      "image/png": "[encoded data removed]",
      "text/plain": [
       "<Figure size 432x288 with 2 Axes>"
      ]
     },
     "metadata": {},
     "output_type": "display_data"
    },
    {
     "data": {
      "image/png": "[encoded data removed]",
      "text/plain": [
       "<Figure size 432x288 with 2 Axes>"
      ]
     },
     "metadata": {},
     "output_type": "display_data"
    },
    {
     "data": {
      "image/png": "[encoded data removed]",
      "text/plain": [
       "<Figure size 432x288 with 2 Axes>"
      ]
     },
     "metadata": {},
     "output_type": "display_data"
    },
    {
     "data": {
      "image/png": "[encoded data removed]",
      "text/plain": [
       "<Figure size 432x288 with 2 Axes>"
      ]
     },
     "metadata": {},
     "output_type": "display_data"
    },
    {
     "data": {
      "image/png": "[encoded data removed]",
      "text/plain": [
       "<Figure size 432x288 with 2 Axes>"
      ]
     },
     "metadata": {},
     "output_type": "display_data"
    }
   ],
   "source": [
    "l = model.layers[21]\n",
    "for i in range(5):\n",
    "    plt.figure()\n",
    "    m = l.output.eval(session=K.get_session(), feed_dict={inputs: X_test[i:i+1]})[0, :, :]\n",
    "    plt.imshow(m, cmap=\"seismic\")\n",
    "    plt.colorbar()"
   ]
  },
  {
   "cell_type": "code",
   "execution_count": 1575,
   "metadata": {},
   "outputs": [],
   "source": [
    "preds = model.predict(Xtransf[:10])"
   ]
  },
  {
   "cell_type": "code",
   "execution_count": 1576,
   "metadata": {},
   "outputs": [],
   "source": [
    "trues = Xparton_transf[:10]"
   ]
  }
 ],
 "metadata": {
  "kernelspec": {
   "display_name": "Python 2",
   "language": "python",
   "name": "python2"
  },
  "language_info": {
   "codemirror_mode": {
    "name": "ipython",
    "version": 2
   },
   "file_extension": ".py",
   "mimetype": "text/x-python",
   "name": "python",
   "nbconvert_exporter": "python",
   "pygments_lexer": "ipython2",
   "version": "2.7.13"
  }
 },
 "nbformat": 4,
 "nbformat_minor": 2
}
