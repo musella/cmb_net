{
 "cells": [
  {
   "cell_type": "markdown",
   "metadata": {},
   "source": [
    "# Format data for training"
   ]
  },
  {
   "cell_type": "code",
   "execution_count": 30,
   "metadata": {},
   "outputs": [
    {
     "data": {
      "text/plain": [
       "{'jet_feats': ['pt', 'eta', 'phi', 'en', 'px', 'py', 'pz', 'btagDeepCSV'],\n",
       " 'njets': 10,\n",
       " 'lep_feats': ['pt', 'eta', 'phi', 'en', 'px', 'py', 'pz'],\n",
       " 'nleps': 2,\n",
       " 'met_feats': None,\n",
       " 'truth_feats': ['pt', 'eta', 'phi', 'en', 'px', 'py', 'pz'],\n",
       " 'inpfile': '/scratch/snx3000/musella/cms_tth_2.hd5',\n",
       " 'outdir': '/scratch/snx3000/musella/cms_tth_had',\n",
       " 'selection': 'num_leptons == 0'}"
      ]
     },
     "execution_count": 30,
     "metadata": {},
     "output_type": "execute_result"
    }
   ],
   "source": [
    "# set inputs and options\n",
    "\n",
    "# default options\n",
    "opts = dict(\n",
    "    jet_feats = [\"pt\",\"eta\",\"phi\",\"en\",\"px\",\"py\",\"pz\",\"btag\"],\n",
    "    njets = 10,\n",
    "    lep_feats = [\"pt\",\"eta\",\"phi\",\"en\",\"px\",\"py\",\"pz\"],\n",
    "    nleps = 2,\n",
    "    met_feats = [\"phi\",\"sumEt\",\"px\",\"py\"],\n",
    "    truth_feats = [\"pt\",\"eta\",\"phi\",\"en\",\"px\",\"py\",\"pz\"],\n",
    ")\n",
    "\n",
    "# options for delphes files, full hadronic selection\n",
    "delphes_tth_had = dict(\n",
    "    inpfile = '/scratch/snx3000/musella/delphes_tth.hd5',\n",
    "    outdir = '/scratch/snx3000/musella/delphes_tth_had',\n",
    "    selection = 'num_leptons == 0',\n",
    "    met_feats = None,\n",
    ")\n",
    "\n",
    "# options for cms files, full hadronic selection\n",
    "cms_tth_had = dict(\n",
    "    inpfile = '/scratch/snx3000/musella/cms_tth_2.hd5',\n",
    "    outdir = '/scratch/snx3000/musella/cms_tth_had',\n",
    "    selection = 'num_leptons == 0',\n",
    "    met_feats = None,\n",
    "    jet_feats = [\"pt\",\"eta\",\"phi\",\"en\",\"px\",\"py\",\"pz\",\"btagDeepCSV\"],\n",
    ")\n",
    "\n",
    "\n",
    "# choose = delphes_tth_had\n",
    "choose = cms_tth_had\n",
    "\n",
    "\n",
    "# copy specfic options\n",
    "opts.update(choose)\n",
    "\n",
    "# copy default values to globals\n",
    "globals().update(opts)\n",
    "\n",
    "\n",
    "opts\n"
   ]
  },
  {
   "cell_type": "code",
   "execution_count": 31,
   "metadata": {},
   "outputs": [],
   "source": [
    "# read inputs\n",
    "df = pd.read_hdf(inpfile)\n",
    "\n",
    "if selection is not None:\n",
    "    df = df.query(selection)\n",
    "\n",
    "jetsa = None\n",
    "hcanda = None\n",
    "lepsa = None\n",
    "meta = None\n",
    "trutha = None\n",
    "kina = None"
   ]
  },
  {
   "cell_type": "code",
   "execution_count": 32,
   "metadata": {},
   "outputs": [],
   "source": [
    "# make dijet higgs candidate combination\n",
    "def hcand(X):    \n",
    "    cmb = X[0]\n",
    "    # print(cmb)\n",
    "    if type(cmb[0]) == list:\n",
    "        return np.zeros( (2,njf),np.float32 )\n",
    "    jets = X[1:].values.reshape(1,-1,njf)\n",
    "    return jets[:,cmb[0,0]].astype(np.float32)\n",
    "    "
   ]
  },
  {
   "cell_type": "code",
   "execution_count": 33,
   "metadata": {},
   "outputs": [],
   "source": [
    "# pad top kinematic fit solutions\n",
    "def pad(X,npad=6):\n",
    "    if len(X.shape) < 4:\n",
    "        X = np.zeros((npad,8,4,2))\n",
    "    elif X.shape[0] < npad:\n",
    "        X = np.vstack([X,np.zeros((6-X.shape[0],8,4,2))])\n",
    "    elif X.shape[0] > npad:\n",
    "        X = X[:npad]\n",
    "    return X.reshape(-1,*X.shape)\n",
    "\n"
   ]
  },
  {
   "cell_type": "code",
   "execution_count": 34,
   "metadata": {},
   "outputs": [],
   "source": [
    "# make output folder\n",
    "! mkdir -p $outdir"
   ]
  },
  {
   "cell_type": "code",
   "execution_count": 35,
   "metadata": {},
   "outputs": [
    {
     "name": "stdout",
     "output_type": "stream",
     "text": [
      "formatting jets...\n",
      "done\n",
      "formatting leptons...\n",
      "done\n",
      "making flat (nokin) features...\n",
      "done\n",
      "making flat features...\n",
      "done\n",
      "making target...\n",
      "done\n",
      "formatting truth...\n",
      "done\n"
     ]
    }
   ],
   "source": [
    "from pyjlr.utils import make_p4\n",
    "\n",
    "flats = []\n",
    "\n",
    "# --------------------------------------------------------------------------------------------------------------\n",
    "# jets\n",
    "if jet_feats is not None:\n",
    "    print('formatting jets...')\n",
    "    onejet = list(range(njets))\n",
    "    for ijet in onejet:\n",
    "        make_p4(df,'jets',ijet)\n",
    "    njf = len(jet_feats)\n",
    "    jet_feat_cols = [\"jets_%s_%d\" % (feat,jet) for jet in onejet for feat in jet_feats  ]\n",
    "    jetsa = df[jet_feat_cols].values\n",
    "    flats.append(jetsa)\n",
    "    jetsa = jetsa.reshape(-1,njets,njf)\n",
    "    np.save(outdir+\"/jets\",jetsa)\n",
    "    print('done')\n",
    "    \n",
    "# --------------------------------------------------------------------------------------------------------------\n",
    "# leptons\n",
    "if lep_feats is not None:\n",
    "    print('formatting leptons...')\n",
    "    nlf = len(lep_feats)\n",
    "    for ilep in range(nleps):\n",
    "        make_p4(df,'leptons',ilep)\n",
    "    lepsa = df[ [\"leptons_%s_%d\" % (feat,lep) for feat in lep_feats for lep in range(nleps)  ]  ].values\n",
    "    flats.append(lepsa)\n",
    "    lepsa = lepsa.reshape(-1,nleps,nlf) \n",
    "    np.save(outdir+\"/leps\",lepsa)\n",
    "    print('done')\n",
    "\n",
    "# --------------------------------------------------------------------------------------------------------------\n",
    "# met\n",
    "if met_feats is not None:\n",
    "    print('formatting met...')\n",
    "    meta = df[ [\"met_%s\" % feat for feat in met_feats  ]  ].values \n",
    "    flats.append(meta)\n",
    "    np.save(outdir+\"/met\",meta)\n",
    "    print('done')\n",
    "\n",
    "# --------------------------------------------------------------------------------------------------------------\n",
    "# flat array with all above\n",
    "print('making flat (nokin) features...')\n",
    "flata = np.hstack(flats)\n",
    "np.save(outdir+\"/flat_nokin\",flata)\n",
    "print('done')\n",
    "\n",
    "# --------------------------------------------------------------------------------------------------------------\n",
    "# jet combinations: higgs candidates and top kin fit solutions\n",
    "if jet_feats is not None and \"jet_cmb\" in df.columns:\n",
    "    print('formatting jet combinations...')\n",
    "    twojets = list(itertools.combinations(onejet,2))\n",
    "\n",
    "    twojets2ind ={  cmb:icomb for icomb,cmb in enumerate(twojets)  }\n",
    "    jet_cols = [\"jets_cmb\"]+jet_feat_cols+[\"jets_jets_m2_%d%d\" % x for x in twojets]\n",
    "    \n",
    "    df[\"kin_sols\"] = df[\"kin_sols\"].apply(pad)#.apply(lambda x: pad_sequences(x,6,value=np.zeros() ).shape)\n",
    "    \n",
    "    hcanda = np.vstack( df[[\"jets_cmb\"]+jet_feat_cols].apply(hcand,axis=1,raw=True).tolist() )\n",
    "    kina = np.vstack(df[\"kin_sols\"].tolist())\n",
    "\n",
    "    flats.append(hcanda.reshape(hcanda.shape[0],-1))\n",
    "    flats.append(kina.reshape(kina.shape[0],-1))\n",
    "    np.save(outdir+\"/hcand\",hcanda)\n",
    "    np.save(outdir+\"/kinsols\",kina)\n",
    "    print('done')    \n",
    "    \n",
    "# --------------------------------------------------------------------------------------------------------------\n",
    "# flat arrat with all above\n",
    "print('making flat features...')\n",
    "flata = np.hstack(flats)\n",
    "np.save(outdir+\"/flat\",flata)\n",
    "print('done')\n",
    "\n",
    "# --------------------------------------------------------------------------------------------------------------\n",
    "# target\n",
    "print('making target...')\n",
    "jlra = df[\"JLR\"].values\n",
    "np.save(outdir+\"/target\",jlra)\n",
    "print('done')\n",
    "\n",
    "# --------------------------------------------------------------------------------------------------------------\n",
    "# truth level info\n",
    "if truth_feats is not None:\n",
    "    print('formatting truth...')\n",
    "    ntf = len(truth_feats)\n",
    "    trutha = df[ [\"%s_%s\" % (part,feat) for feat in truth_feats for part in [\"top\",\"atop\",\"bottom\",\"abottom\"]  ]  ].values \n",
    "    trutha = trutha.reshape(-1,4,ntf)\n",
    "    np.save(outdir+\"/truth\",trutha)    \n",
    "    print('done')\n",
    "    "
   ]
  },
  {
   "cell_type": "code",
   "execution_count": 36,
   "metadata": {},
   "outputs": [
    {
     "name": "stdout",
     "output_type": "stream",
     "text": [
      "total 12G\n",
      "-rw-r--r-- 1 musella d78 3.0G Jun 11 14:02 jets.npy\n",
      "-rw-r--r-- 1 musella d78 528M Jun 11 14:03 leps.npy\n",
      "-rw-r--r-- 1 musella d78 3.5G Jun 11 14:03 flat_nokin.npy\n",
      "-rw-r--r-- 1 musella d78  38M Jun 11 14:03 target.npy\n",
      "-rw-r--r-- 1 musella d78 3.5G Jun 11 14:03 flat.npy\n",
      "-rw-r--r-- 1 musella d78 1.1G Jun 11 14:03 truth.npy\n"
     ]
    }
   ],
   "source": [
    "# list output folder\n",
    "! ls -ltrh $outdir"
   ]
  },
  {
   "cell_type": "code",
   "execution_count": null,
   "metadata": {},
   "outputs": [],
   "source": []
  },
  {
   "cell_type": "code",
   "execution_count": null,
   "metadata": {},
   "outputs": [],
   "source": []
  }
 ],
 "metadata": {
  "kernelspec": {
   "display_name": "Python 3",
   "language": "python",
   "name": "python3"
  },
  "language_info": {
   "codemirror_mode": {
    "name": "ipython",
    "version": 3
   },
   "file_extension": ".py",
   "mimetype": "text/x-python",
   "name": "python",
   "nbconvert_exporter": "python",
   "pygments_lexer": "ipython3",
   "version": "3.6.1"
  }
 },
 "nbformat": 4,
 "nbformat_minor": 2
}
