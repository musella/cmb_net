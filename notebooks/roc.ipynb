{
 "cells": [
  {
   "cell_type": "code",
   "execution_count": 1,
   "metadata": {},
   "outputs": [
    {
     "name": "stderr",
     "output_type": "stream",
     "text": [
      "Using TensorFlow backend.\n"
     ]
    }
   ],
   "source": [
    "from __future__ import print_function\n",
    "import os\n",
    "os.environ[\"KERAS_BACKEND\"] = \"tensorflow\"\n",
    "import tensorflow as tf\n",
    "import keras\n",
    "from keras.layers import Layer\n",
    "import jlr_util\n",
    "import numpy as np\n",
    "from keras import backend as K\n",
    "np.set_printoptions(precision=2)\n",
    "import matplotlib\n",
    "import matplotlib.pyplot as plt\n",
    "%matplotlib inline"
   ]
  },
  {
   "cell_type": "code",
   "execution_count": 155,
   "metadata": {},
   "outputs": [],
   "source": [
    "def load_data(infile):\n",
    "    #load the input data\n",
    "    inf = open(infile, \"rb\")\n",
    "    data = np.load(inf)\n",
    "    Xreco = data[\"X_reco\"]\n",
    "    return Xreco"
   ]
  },
  {
   "cell_type": "code",
   "execution_count": 73,
   "metadata": {},
   "outputs": [],
   "source": [
    "Xreco, Xmatch, Xparton_cart, y = jlr_util.load_data(\"./data/processed/data_fh.npz\")\n",
    "mean = np.mean(y)\n",
    "std = np.std(y)\n",
    "y = (y-mean)/std"
   ]
  },
  {
   "cell_type": "code",
   "execution_count": 96,
   "metadata": {},
   "outputs": [],
   "source": [
    "Xbkg = load_data(\"./data/processed/data_ttjets_fh.npz\")"
   ]
  },
  {
   "cell_type": "code",
   "execution_count": 156,
   "metadata": {},
   "outputs": [],
   "source": [
    "ntrain = 3000000\n",
    "X_train = Xreco[:ntrain]\n",
    "y_train = y[:ntrain]\n",
    "\n",
    "X_test = Xreco[ntrain:]\n",
    "y_test = y[ntrain:]"
   ]
  },
  {
   "cell_type": "code",
   "execution_count": 157,
   "metadata": {},
   "outputs": [],
   "source": [
    "mod = jlr_util.build_densenet(X_train, 3, 0.2, 256, True, \"relu\", 0.0)"
   ]
  },
  {
   "cell_type": "code",
   "execution_count": 158,
   "metadata": {},
   "outputs": [],
   "source": [
    "opt = keras.optimizers.Adam(lr=0.001, clipnorm=1.0)\n",
    "mod.compile(loss=jlr_util.neg_r2_score, optimizer=opt, metrics=[jlr_util.r2_score])"
   ]
  },
  {
   "cell_type": "code",
   "execution_count": 159,
   "metadata": {
    "scrolled": false
   },
   "outputs": [
    {
     "name": "stdout",
     "output_type": "stream",
     "text": [
      "Train on 3000000 samples, validate on 839052 samples\n",
      "Epoch 1/50\n",
      "3000000/3000000 [==============================] - 115s 38us/step - loss: -0.0532 - r2_score: 0.0532 - val_loss: -0.0928 - val_r2_score: 0.0928\n",
      "Epoch 2/50\n",
      "3000000/3000000 [==============================] - 122s 41us/step - loss: -0.0927 - r2_score: 0.0927 - val_loss: -0.1051 - val_r2_score: 0.1051\n",
      "Epoch 3/50\n",
      "3000000/3000000 [==============================] - 90s 30us/step - loss: -0.1008 - r2_score: 0.1008 - val_loss: -0.1084 - val_r2_score: 0.1084\n",
      "Epoch 4/50\n",
      "3000000/3000000 [==============================] - 85s 28us/step - loss: -0.1049 - r2_score: 0.1049 - val_loss: -0.1124 - val_r2_score: 0.1124\n",
      "Epoch 5/50\n",
      "3000000/3000000 [==============================] - 86s 29us/step - loss: -0.1073 - r2_score: 0.1073 - val_loss: -0.1112 - val_r2_score: 0.1112\n",
      "Epoch 6/50\n",
      "3000000/3000000 [==============================] - 86s 29us/step - loss: -0.1093 - r2_score: 0.1093 - val_loss: -0.1148 - val_r2_score: 0.1148\n",
      "Epoch 7/50\n",
      "3000000/3000000 [==============================] - 85s 28us/step - loss: -0.1108 - r2_score: 0.1108 - val_loss: -0.1166 - val_r2_score: 0.1166\n",
      "Epoch 8/50\n",
      "3000000/3000000 [==============================] - 88s 29us/step - loss: -0.1119 - r2_score: 0.1119 - val_loss: -0.1166 - val_r2_score: 0.1166\n",
      "Epoch 9/50\n",
      "3000000/3000000 [==============================] - 89s 30us/step - loss: -0.1128 - r2_score: 0.1128 - val_loss: -0.1175 - val_r2_score: 0.1175\n",
      "Epoch 10/50\n",
      "3000000/3000000 [==============================] - 106s 35us/step - loss: -0.1138 - r2_score: 0.1138 - val_loss: -0.1171 - val_r2_score: 0.1171\n",
      "Epoch 11/50\n",
      "3000000/3000000 [==============================] - 121s 40us/step - loss: -0.1143 - r2_score: 0.1143 - val_loss: -0.1163 - val_r2_score: 0.1163\n",
      "Epoch 12/50\n",
      "3000000/3000000 [==============================] - 101s 34us/step - loss: -0.1151 - r2_score: 0.1151 - val_loss: -0.1185 - val_r2_score: 0.1185\n",
      "Epoch 13/50\n",
      "3000000/3000000 [==============================] - 104s 35us/step - loss: -0.1160 - r2_score: 0.1160 - val_loss: -0.1180 - val_r2_score: 0.1180\n",
      "Epoch 14/50\n",
      "3000000/3000000 [==============================] - 104s 35us/step - loss: -0.1164 - r2_score: 0.1164 - val_loss: -0.1190 - val_r2_score: 0.1190\n",
      "Epoch 15/50\n",
      "3000000/3000000 [==============================] - 101s 34us/step - loss: -0.1169 - r2_score: 0.1169 - val_loss: -0.1190 - val_r2_score: 0.1190\n",
      "Epoch 16/50\n",
      "3000000/3000000 [==============================] - 109s 36us/step - loss: -0.1171 - r2_score: 0.1171 - val_loss: -0.1194 - val_r2_score: 0.1194\n",
      "Epoch 17/50\n",
      "3000000/3000000 [==============================] - 111s 37us/step - loss: -0.1177 - r2_score: 0.1177 - val_loss: -0.1207 - val_r2_score: 0.1207\n",
      "Epoch 18/50\n",
      "3000000/3000000 [==============================] - 146s 49us/step - loss: -0.1179 - r2_score: 0.1179 - val_loss: -0.1211 - val_r2_score: 0.1211\n",
      "Epoch 19/50\n",
      "3000000/3000000 [==============================] - 118s 39us/step - loss: -0.1183 - r2_score: 0.1183 - val_loss: -0.1198 - val_r2_score: 0.1198\n",
      "Epoch 20/50\n",
      "3000000/3000000 [==============================] - 130s 43us/step - loss: -0.1190 - r2_score: 0.1190 - val_loss: -0.1226 - val_r2_score: 0.1226\n",
      "Epoch 21/50\n",
      "3000000/3000000 [==============================] - 120s 40us/step - loss: -0.1190 - r2_score: 0.1190 - val_loss: -0.1209 - val_r2_score: 0.1209\n",
      "Epoch 22/50\n",
      "3000000/3000000 [==============================] - 114s 38us/step - loss: -0.1196 - r2_score: 0.1196 - val_loss: -0.1213 - val_r2_score: 0.1213\n",
      "Epoch 23/50\n",
      "3000000/3000000 [==============================] - 109s 36us/step - loss: -0.1196 - r2_score: 0.1196 - val_loss: -0.1212 - val_r2_score: 0.1212\n",
      "Epoch 24/50\n",
      "3000000/3000000 [==============================] - 111s 37us/step - loss: -0.1200 - r2_score: 0.1200 - val_loss: -0.1210 - val_r2_score: 0.1210\n",
      "Epoch 25/50\n",
      "3000000/3000000 [==============================] - 114s 38us/step - loss: -0.1204 - r2_score: 0.1204 - val_loss: -0.1215 - val_r2_score: 0.1215\n",
      "Epoch 26/50\n",
      "3000000/3000000 [==============================] - 117s 39us/step - loss: -0.1206 - r2_score: 0.1206 - val_loss: -0.1216 - val_r2_score: 0.1216\n",
      "Epoch 27/50\n",
      "3000000/3000000 [==============================] - 124s 41us/step - loss: -0.1205 - r2_score: 0.1205 - val_loss: -0.1223 - val_r2_score: 0.1223\n",
      "Epoch 28/50\n",
      "3000000/3000000 [==============================] - 113s 38us/step - loss: -0.1210 - r2_score: 0.1210 - val_loss: -0.1208 - val_r2_score: 0.1208\n",
      "Epoch 29/50\n",
      "3000000/3000000 [==============================] - 115s 38us/step - loss: -0.1211 - r2_score: 0.1211 - val_loss: -0.1221 - val_r2_score: 0.1221\n",
      "Epoch 30/50\n",
      "3000000/3000000 [==============================] - 116s 39us/step - loss: -0.1214 - r2_score: 0.1214 - val_loss: -0.1212 - val_r2_score: 0.1212\n",
      "Epoch 31/50\n",
      "3000000/3000000 [==============================] - 118s 39us/step - loss: -0.1214 - r2_score: 0.1214 - val_loss: -0.1220 - val_r2_score: 0.1220\n",
      "Epoch 32/50\n",
      "3000000/3000000 [==============================] - 109s 36us/step - loss: -0.1220 - r2_score: 0.1220 - val_loss: -0.1220 - val_r2_score: 0.1220\n",
      "Epoch 33/50\n",
      "3000000/3000000 [==============================] - 109s 36us/step - loss: -0.1220 - r2_score: 0.1220 - val_loss: -0.1215 - val_r2_score: 0.1215\n",
      "Epoch 34/50\n",
      "3000000/3000000 [==============================] - 107s 36us/step - loss: -0.1221 - r2_score: 0.1221 - val_loss: -0.1216 - val_r2_score: 0.1216\n",
      "Epoch 35/50\n",
      "3000000/3000000 [==============================] - 113s 38us/step - loss: -0.1222 - r2_score: 0.1222 - val_loss: -0.1223 - val_r2_score: 0.1223 2\n",
      "Epoch 36/50\n",
      "3000000/3000000 [==============================] - 121s 40us/step - loss: -0.1227 - r2_score: 0.1227 - val_loss: -0.1217 - val_r2_score: 0.1217\n",
      "Epoch 37/50\n",
      "3000000/3000000 [==============================] - 106s 35us/step - loss: -0.1227 - r2_score: 0.1227 - val_loss: -0.1228 - val_r2_score: 0.1228\n",
      "Epoch 38/50\n",
      "3000000/3000000 [==============================] - 100s 33us/step - loss: -0.1230 - r2_score: 0.1230 - val_loss: -0.1194 - val_r2_score: 0.1194\n",
      "Epoch 39/50\n",
      "3000000/3000000 [==============================] - 95s 32us/step - loss: -0.1230 - r2_score: 0.1230 - val_loss: -0.1199 - val_r2_score: 0.1199\n",
      "Epoch 40/50\n",
      "3000000/3000000 [==============================] - 88s 29us/step - loss: -0.1229 - r2_score: 0.1229 - val_loss: -0.1217 - val_r2_score: 0.1217\n",
      "Epoch 41/50\n",
      "3000000/3000000 [==============================] - 89s 30us/step - loss: -0.1231 - r2_score: 0.1231 - val_loss: -0.1216 - val_r2_score: 0.1216\n",
      "Epoch 42/50\n",
      " 120000/3000000 [>.............................] - ETA: 1:46 - loss: -0.1270 - r2_score: 0.1270"
     ]
    },
    {
     "ename": "KeyboardInterrupt",
     "evalue": "",
     "output_type": "error",
     "traceback": [
      "\u001b[0;31m---------------------------------------------------------------------------\u001b[0m",
      "\u001b[0;31mKeyboardInterrupt\u001b[0m                         Traceback (most recent call last)",
      "\u001b[0;32m<ipython-input-159-62858f38b8f4>\u001b[0m in \u001b[0;36m<module>\u001b[0;34m()\u001b[0m\n\u001b[0;32m----> 1\u001b[0;31m \u001b[0mmod\u001b[0m\u001b[0;34m.\u001b[0m\u001b[0mfit\u001b[0m\u001b[0;34m(\u001b[0m\u001b[0mX_train\u001b[0m\u001b[0;34m,\u001b[0m \u001b[0my_train\u001b[0m\u001b[0;34m,\u001b[0m \u001b[0mvalidation_data\u001b[0m\u001b[0;34m=\u001b[0m\u001b[0;34m(\u001b[0m\u001b[0mX_test\u001b[0m\u001b[0;34m,\u001b[0m \u001b[0my_test\u001b[0m\u001b[0;34m)\u001b[0m\u001b[0;34m,\u001b[0m \u001b[0mepochs\u001b[0m\u001b[0;34m=\u001b[0m\u001b[0;36m50\u001b[0m\u001b[0;34m,\u001b[0m \u001b[0mbatch_size\u001b[0m\u001b[0;34m=\u001b[0m\u001b[0;36m1000\u001b[0m\u001b[0;34m)\u001b[0m\u001b[0;34m\u001b[0m\u001b[0m\n\u001b[0m",
      "\u001b[0;32m/usr/local/lib/python2.7/site-packages/keras/models.pyc\u001b[0m in \u001b[0;36mfit\u001b[0;34m(self, x, y, batch_size, epochs, verbose, callbacks, validation_split, validation_data, shuffle, class_weight, sample_weight, initial_epoch, steps_per_epoch, validation_steps, **kwargs)\u001b[0m\n\u001b[1;32m    961\u001b[0m                               \u001b[0minitial_epoch\u001b[0m\u001b[0;34m=\u001b[0m\u001b[0minitial_epoch\u001b[0m\u001b[0;34m,\u001b[0m\u001b[0;34m\u001b[0m\u001b[0m\n\u001b[1;32m    962\u001b[0m                               \u001b[0msteps_per_epoch\u001b[0m\u001b[0;34m=\u001b[0m\u001b[0msteps_per_epoch\u001b[0m\u001b[0;34m,\u001b[0m\u001b[0;34m\u001b[0m\u001b[0m\n\u001b[0;32m--> 963\u001b[0;31m                               validation_steps=validation_steps)\n\u001b[0m\u001b[1;32m    964\u001b[0m \u001b[0;34m\u001b[0m\u001b[0m\n\u001b[1;32m    965\u001b[0m     def evaluate(self, x=None, y=None,\n",
      "\u001b[0;32m/usr/local/lib/python2.7/site-packages/keras/engine/training.pyc\u001b[0m in \u001b[0;36mfit\u001b[0;34m(self, x, y, batch_size, epochs, verbose, callbacks, validation_split, validation_data, shuffle, class_weight, sample_weight, initial_epoch, steps_per_epoch, validation_steps, **kwargs)\u001b[0m\n\u001b[1;32m   1703\u001b[0m                               \u001b[0minitial_epoch\u001b[0m\u001b[0;34m=\u001b[0m\u001b[0minitial_epoch\u001b[0m\u001b[0;34m,\u001b[0m\u001b[0;34m\u001b[0m\u001b[0m\n\u001b[1;32m   1704\u001b[0m                               \u001b[0msteps_per_epoch\u001b[0m\u001b[0;34m=\u001b[0m\u001b[0msteps_per_epoch\u001b[0m\u001b[0;34m,\u001b[0m\u001b[0;34m\u001b[0m\u001b[0m\n\u001b[0;32m-> 1705\u001b[0;31m                               validation_steps=validation_steps)\n\u001b[0m\u001b[1;32m   1706\u001b[0m \u001b[0;34m\u001b[0m\u001b[0m\n\u001b[1;32m   1707\u001b[0m     def evaluate(self, x=None, y=None,\n",
      "\u001b[0;32m/usr/local/lib/python2.7/site-packages/keras/engine/training.pyc\u001b[0m in \u001b[0;36m_fit_loop\u001b[0;34m(self, f, ins, out_labels, batch_size, epochs, verbose, callbacks, val_f, val_ins, shuffle, callback_metrics, initial_epoch, steps_per_epoch, validation_steps)\u001b[0m\n\u001b[1;32m   1233\u001b[0m                         \u001b[0mins_batch\u001b[0m\u001b[0;34m[\u001b[0m\u001b[0mi\u001b[0m\u001b[0;34m]\u001b[0m \u001b[0;34m=\u001b[0m \u001b[0mins_batch\u001b[0m\u001b[0;34m[\u001b[0m\u001b[0mi\u001b[0m\u001b[0;34m]\u001b[0m\u001b[0;34m.\u001b[0m\u001b[0mtoarray\u001b[0m\u001b[0;34m(\u001b[0m\u001b[0;34m)\u001b[0m\u001b[0;34m\u001b[0m\u001b[0m\n\u001b[1;32m   1234\u001b[0m \u001b[0;34m\u001b[0m\u001b[0m\n\u001b[0;32m-> 1235\u001b[0;31m                     \u001b[0mouts\u001b[0m \u001b[0;34m=\u001b[0m \u001b[0mf\u001b[0m\u001b[0;34m(\u001b[0m\u001b[0mins_batch\u001b[0m\u001b[0;34m)\u001b[0m\u001b[0;34m\u001b[0m\u001b[0m\n\u001b[0m\u001b[1;32m   1236\u001b[0m                     \u001b[0;32mif\u001b[0m \u001b[0;32mnot\u001b[0m \u001b[0misinstance\u001b[0m\u001b[0;34m(\u001b[0m\u001b[0mouts\u001b[0m\u001b[0;34m,\u001b[0m \u001b[0mlist\u001b[0m\u001b[0;34m)\u001b[0m\u001b[0;34m:\u001b[0m\u001b[0;34m\u001b[0m\u001b[0m\n\u001b[1;32m   1237\u001b[0m                         \u001b[0mouts\u001b[0m \u001b[0;34m=\u001b[0m \u001b[0;34m[\u001b[0m\u001b[0mouts\u001b[0m\u001b[0;34m]\u001b[0m\u001b[0;34m\u001b[0m\u001b[0m\n",
      "\u001b[0;32m/usr/local/lib/python2.7/site-packages/keras/backend/tensorflow_backend.pyc\u001b[0m in \u001b[0;36m__call__\u001b[0;34m(self, inputs)\u001b[0m\n\u001b[1;32m   2476\u001b[0m         \u001b[0msession\u001b[0m \u001b[0;34m=\u001b[0m \u001b[0mget_session\u001b[0m\u001b[0;34m(\u001b[0m\u001b[0;34m)\u001b[0m\u001b[0;34m\u001b[0m\u001b[0m\n\u001b[1;32m   2477\u001b[0m         updated = session.run(fetches=fetches, feed_dict=feed_dict,\n\u001b[0;32m-> 2478\u001b[0;31m                               **self.session_kwargs)\n\u001b[0m\u001b[1;32m   2479\u001b[0m         \u001b[0;32mreturn\u001b[0m \u001b[0mupdated\u001b[0m\u001b[0;34m[\u001b[0m\u001b[0;34m:\u001b[0m\u001b[0mlen\u001b[0m\u001b[0;34m(\u001b[0m\u001b[0mself\u001b[0m\u001b[0;34m.\u001b[0m\u001b[0moutputs\u001b[0m\u001b[0;34m)\u001b[0m\u001b[0;34m]\u001b[0m\u001b[0;34m\u001b[0m\u001b[0m\n\u001b[1;32m   2480\u001b[0m \u001b[0;34m\u001b[0m\u001b[0m\n",
      "\u001b[0;32m/usr/local/lib/python2.7/site-packages/tensorflow/python/client/session.pyc\u001b[0m in \u001b[0;36mrun\u001b[0;34m(self, fetches, feed_dict, options, run_metadata)\u001b[0m\n\u001b[1;32m    898\u001b[0m     \u001b[0;32mtry\u001b[0m\u001b[0;34m:\u001b[0m\u001b[0;34m\u001b[0m\u001b[0m\n\u001b[1;32m    899\u001b[0m       result = self._run(None, fetches, feed_dict, options_ptr,\n\u001b[0;32m--> 900\u001b[0;31m                          run_metadata_ptr)\n\u001b[0m\u001b[1;32m    901\u001b[0m       \u001b[0;32mif\u001b[0m \u001b[0mrun_metadata\u001b[0m\u001b[0;34m:\u001b[0m\u001b[0;34m\u001b[0m\u001b[0m\n\u001b[1;32m    902\u001b[0m         \u001b[0mproto_data\u001b[0m \u001b[0;34m=\u001b[0m \u001b[0mtf_session\u001b[0m\u001b[0;34m.\u001b[0m\u001b[0mTF_GetBuffer\u001b[0m\u001b[0;34m(\u001b[0m\u001b[0mrun_metadata_ptr\u001b[0m\u001b[0;34m)\u001b[0m\u001b[0;34m\u001b[0m\u001b[0m\n",
      "\u001b[0;32m/usr/local/lib/python2.7/site-packages/tensorflow/python/client/session.pyc\u001b[0m in \u001b[0;36m_run\u001b[0;34m(self, handle, fetches, feed_dict, options, run_metadata)\u001b[0m\n\u001b[1;32m   1133\u001b[0m     \u001b[0;32mif\u001b[0m \u001b[0mfinal_fetches\u001b[0m \u001b[0;32mor\u001b[0m \u001b[0mfinal_targets\u001b[0m \u001b[0;32mor\u001b[0m \u001b[0;34m(\u001b[0m\u001b[0mhandle\u001b[0m \u001b[0;32mand\u001b[0m \u001b[0mfeed_dict_tensor\u001b[0m\u001b[0;34m)\u001b[0m\u001b[0;34m:\u001b[0m\u001b[0;34m\u001b[0m\u001b[0m\n\u001b[1;32m   1134\u001b[0m       results = self._do_run(handle, final_targets, final_fetches,\n\u001b[0;32m-> 1135\u001b[0;31m                              feed_dict_tensor, options, run_metadata)\n\u001b[0m\u001b[1;32m   1136\u001b[0m     \u001b[0;32melse\u001b[0m\u001b[0;34m:\u001b[0m\u001b[0;34m\u001b[0m\u001b[0m\n\u001b[1;32m   1137\u001b[0m       \u001b[0mresults\u001b[0m \u001b[0;34m=\u001b[0m \u001b[0;34m[\u001b[0m\u001b[0;34m]\u001b[0m\u001b[0;34m\u001b[0m\u001b[0m\n",
      "\u001b[0;32m/usr/local/lib/python2.7/site-packages/tensorflow/python/client/session.pyc\u001b[0m in \u001b[0;36m_do_run\u001b[0;34m(self, handle, target_list, fetch_list, feed_dict, options, run_metadata)\u001b[0m\n\u001b[1;32m   1314\u001b[0m     \u001b[0;32mif\u001b[0m \u001b[0mhandle\u001b[0m \u001b[0;32mis\u001b[0m \u001b[0mNone\u001b[0m\u001b[0;34m:\u001b[0m\u001b[0;34m\u001b[0m\u001b[0m\n\u001b[1;32m   1315\u001b[0m       return self._do_call(_run_fn, feeds, fetches, targets, options,\n\u001b[0;32m-> 1316\u001b[0;31m                            run_metadata)\n\u001b[0m\u001b[1;32m   1317\u001b[0m     \u001b[0;32melse\u001b[0m\u001b[0;34m:\u001b[0m\u001b[0;34m\u001b[0m\u001b[0m\n\u001b[1;32m   1318\u001b[0m       \u001b[0;32mreturn\u001b[0m \u001b[0mself\u001b[0m\u001b[0;34m.\u001b[0m\u001b[0m_do_call\u001b[0m\u001b[0;34m(\u001b[0m\u001b[0m_prun_fn\u001b[0m\u001b[0;34m,\u001b[0m \u001b[0mhandle\u001b[0m\u001b[0;34m,\u001b[0m \u001b[0mfeeds\u001b[0m\u001b[0;34m,\u001b[0m \u001b[0mfetches\u001b[0m\u001b[0;34m)\u001b[0m\u001b[0;34m\u001b[0m\u001b[0m\n",
      "\u001b[0;32m/usr/local/lib/python2.7/site-packages/tensorflow/python/client/session.pyc\u001b[0m in \u001b[0;36m_do_call\u001b[0;34m(self, fn, *args)\u001b[0m\n\u001b[1;32m   1320\u001b[0m   \u001b[0;32mdef\u001b[0m \u001b[0m_do_call\u001b[0m\u001b[0;34m(\u001b[0m\u001b[0mself\u001b[0m\u001b[0;34m,\u001b[0m \u001b[0mfn\u001b[0m\u001b[0;34m,\u001b[0m \u001b[0;34m*\u001b[0m\u001b[0margs\u001b[0m\u001b[0;34m)\u001b[0m\u001b[0;34m:\u001b[0m\u001b[0;34m\u001b[0m\u001b[0m\n\u001b[1;32m   1321\u001b[0m     \u001b[0;32mtry\u001b[0m\u001b[0;34m:\u001b[0m\u001b[0;34m\u001b[0m\u001b[0m\n\u001b[0;32m-> 1322\u001b[0;31m       \u001b[0;32mreturn\u001b[0m \u001b[0mfn\u001b[0m\u001b[0;34m(\u001b[0m\u001b[0;34m*\u001b[0m\u001b[0margs\u001b[0m\u001b[0;34m)\u001b[0m\u001b[0;34m\u001b[0m\u001b[0m\n\u001b[0m\u001b[1;32m   1323\u001b[0m     \u001b[0;32mexcept\u001b[0m \u001b[0merrors\u001b[0m\u001b[0;34m.\u001b[0m\u001b[0mOpError\u001b[0m \u001b[0;32mas\u001b[0m \u001b[0me\u001b[0m\u001b[0;34m:\u001b[0m\u001b[0;34m\u001b[0m\u001b[0m\n\u001b[1;32m   1324\u001b[0m       \u001b[0mmessage\u001b[0m \u001b[0;34m=\u001b[0m \u001b[0mcompat\u001b[0m\u001b[0;34m.\u001b[0m\u001b[0mas_text\u001b[0m\u001b[0;34m(\u001b[0m\u001b[0me\u001b[0m\u001b[0;34m.\u001b[0m\u001b[0mmessage\u001b[0m\u001b[0;34m)\u001b[0m\u001b[0;34m\u001b[0m\u001b[0m\n",
      "\u001b[0;32m/usr/local/lib/python2.7/site-packages/tensorflow/python/client/session.pyc\u001b[0m in \u001b[0;36m_run_fn\u001b[0;34m(feed_dict, fetch_list, target_list, options, run_metadata)\u001b[0m\n\u001b[1;32m   1305\u001b[0m       \u001b[0mself\u001b[0m\u001b[0;34m.\u001b[0m\u001b[0m_extend_graph\u001b[0m\u001b[0;34m(\u001b[0m\u001b[0;34m)\u001b[0m\u001b[0;34m\u001b[0m\u001b[0m\n\u001b[1;32m   1306\u001b[0m       return self._call_tf_sessionrun(\n\u001b[0;32m-> 1307\u001b[0;31m           options, feed_dict, fetch_list, target_list, run_metadata)\n\u001b[0m\u001b[1;32m   1308\u001b[0m \u001b[0;34m\u001b[0m\u001b[0m\n\u001b[1;32m   1309\u001b[0m     \u001b[0;32mdef\u001b[0m \u001b[0m_prun_fn\u001b[0m\u001b[0;34m(\u001b[0m\u001b[0mhandle\u001b[0m\u001b[0;34m,\u001b[0m \u001b[0mfeed_dict\u001b[0m\u001b[0;34m,\u001b[0m \u001b[0mfetch_list\u001b[0m\u001b[0;34m)\u001b[0m\u001b[0;34m:\u001b[0m\u001b[0;34m\u001b[0m\u001b[0m\n",
      "\u001b[0;32m/usr/local/lib/python2.7/site-packages/tensorflow/python/client/session.pyc\u001b[0m in \u001b[0;36m_call_tf_sessionrun\u001b[0;34m(self, options, feed_dict, fetch_list, target_list, run_metadata)\u001b[0m\n\u001b[1;32m   1407\u001b[0m       return tf_session.TF_SessionRun_wrapper(\n\u001b[1;32m   1408\u001b[0m           \u001b[0mself\u001b[0m\u001b[0;34m.\u001b[0m\u001b[0m_session\u001b[0m\u001b[0;34m,\u001b[0m \u001b[0moptions\u001b[0m\u001b[0;34m,\u001b[0m \u001b[0mfeed_dict\u001b[0m\u001b[0;34m,\u001b[0m \u001b[0mfetch_list\u001b[0m\u001b[0;34m,\u001b[0m \u001b[0mtarget_list\u001b[0m\u001b[0;34m,\u001b[0m\u001b[0;34m\u001b[0m\u001b[0m\n\u001b[0;32m-> 1409\u001b[0;31m           run_metadata)\n\u001b[0m\u001b[1;32m   1410\u001b[0m     \u001b[0;32melse\u001b[0m\u001b[0;34m:\u001b[0m\u001b[0;34m\u001b[0m\u001b[0m\n\u001b[1;32m   1411\u001b[0m       \u001b[0;32mwith\u001b[0m \u001b[0merrors\u001b[0m\u001b[0;34m.\u001b[0m\u001b[0mraise_exception_on_not_ok_status\u001b[0m\u001b[0;34m(\u001b[0m\u001b[0;34m)\u001b[0m \u001b[0;32mas\u001b[0m \u001b[0mstatus\u001b[0m\u001b[0;34m:\u001b[0m\u001b[0;34m\u001b[0m\u001b[0m\n",
      "\u001b[0;31mKeyboardInterrupt\u001b[0m: "
     ]
    }
   ],
   "source": [
    "mod.fit(X_train, y_train, validation_data=(X_test, y_test), epochs=50, batch_size=1000)"
   ]
  },
  {
   "cell_type": "code",
   "execution_count": 160,
   "metadata": {},
   "outputs": [],
   "source": [
    "ysig_pred_train = mod.predict(X_train, batch_size=100000)\n",
    "ysig_pred_test = mod.predict(X_test, batch_size=100000)"
   ]
  },
  {
   "cell_type": "code",
   "execution_count": 161,
   "metadata": {},
   "outputs": [],
   "source": [
    "ybkg_pred = mod.predict(Xbkg[:50000], batch_size=10000)"
   ]
  },
  {
   "cell_type": "code",
   "execution_count": 162,
   "metadata": {},
   "outputs": [
    {
     "data": {
      "text/plain": [
       "<matplotlib.legend.Legend at 0x16414a9d0>"
      ]
     },
     "execution_count": 162,
     "metadata": {},
     "output_type": "execute_result"
    },
    {
     "data": {
      "image/png": "[encoded data removed]",
      "text/plain": [
       "<Figure size 432x288 with 1 Axes>"
      ]
     },
     "metadata": {},
     "output_type": "display_data"
    }
   ],
   "source": [
    "plt.hist(ysig_pred_train[:, 0], bins=np.linspace(-1, 1.5, 100), density=1.0, alpha=0.7, label=\"train\");\n",
    "plt.hist(ysig_pred_test[:, 0], bins=np.linspace(-1, 1.5, 100), density=1.0, alpha=0.7, label=\"test\");\n",
    "\n",
    "plt.hist(ybkg_pred[:, 0], bins=np.linspace(-1, 1.5, 100), density=1.0, alpha=0.7, label=\"bkg\");\n",
    "plt.legend()"
   ]
  },
  {
   "cell_type": "code",
   "execution_count": 163,
   "metadata": {},
   "outputs": [],
   "source": [
    "import sklearn\n",
    "import sklearn.metrics"
   ]
  },
  {
   "cell_type": "code",
   "execution_count": 164,
   "metadata": {},
   "outputs": [],
   "source": [
    "def roc_curve_vecs(vs, vb, bins):\n",
    "    hs, _ = np.histogram(vs, bins)\n",
    "    hb, _ = np.histogram(vb, bins)\n",
    "    \n",
    "    chs = np.cumsum(hs)/float(np.sum(hs))\n",
    "    chb = np.cumsum(hb)/float(np.sum(hb))\n",
    "\n",
    "    plt.plot(chs, chb)"
   ]
  },
  {
   "cell_type": "code",
   "execution_count": 165,
   "metadata": {},
   "outputs": [
    {
     "data": {
      "text/plain": [
       "(0, 1)"
      ]
     },
     "execution_count": 165,
     "metadata": {},
     "output_type": "execute_result"
    },
    {
     "data": {
      "image/png": "[encoded data removed]",
      "text/plain": [
       "<Figure size 288x288 with 1 Axes>"
      ]
     },
     "metadata": {},
     "output_type": "display_data"
    }
   ],
   "source": [
    "plt.figure(figsize=(4,4))\n",
    "roc_curve_vecs(ysig_pred_test[:, 0], ybkg_pred[:, 0], np.linspace(-1,1.5,100))\n",
    "roc_curve_vecs(ysig_pred_train[:, 0], ybkg_pred[:, 0], np.linspace(-1,1.5,100))\n",
    "plt.plot([0,1],[0,1], color=\"black\")\n",
    "plt.xlim(0,1)\n",
    "plt.ylim(0,1)"
   ]
  },
  {
   "cell_type": "code",
   "execution_count": null,
   "metadata": {},
   "outputs": [],
   "source": []
  }
 ],
 "metadata": {
  "kernelspec": {
   "display_name": "Python 2",
   "language": "python",
   "name": "python2"
  },
  "language_info": {
   "codemirror_mode": {
    "name": "ipython",
    "version": 2
   },
   "file_extension": ".py",
   "mimetype": "text/x-python",
   "name": "python",
   "nbconvert_exporter": "python",
   "pygments_lexer": "ipython2",
   "version": "2.7.13"
  }
 },
 "nbformat": 4,
 "nbformat_minor": 2
}
